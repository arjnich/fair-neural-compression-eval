{
 "cells": [
  {
   "cell_type": "code",
   "execution_count": null,
   "metadata": {},
   "outputs": [],
   "source": [
    "from predict import perform_inference\n",
    "from datasets.rfw_latent import RFW_raw, RFW_latent, create_dataloaders\n",
    "from train import train, write_model, save_model\n",
    "from detection_models import MultiHeadResNet, LatentMultiHead_1\n",
    "\n",
    "import torch\n",
    "import torchvision.models as models\n",
    "import torch.nn as nn\n",
    "from tqdm import tqdm\n",
    "import torch.nn.functional as F\n",
    "\n",
    "import sys\n",
    "sys.path.append('/home/tianqiu/NeuralCompression/lossy-vae')\n",
    "from lvae import get_model\n",
    "from lvae.models.qresvae import zoo"
   ]
  },
  {
   "cell_type": "code",
   "execution_count": 2,
   "metadata": {},
   "outputs": [],
   "source": [
    "DEVICE = 1\n",
    "device = torch.device(f'cuda:{DEVICE}' if torch.cuda.is_available() else 'cpu')\n",
    "RATIO = 0.8"
   ]
  },
  {
   "cell_type": "code",
   "execution_count": 3,
   "metadata": {},
   "outputs": [],
   "source": [
    "BATCH_SIZE = 1024"
   ]
  },
  {
   "cell_type": "code",
   "execution_count": 4,
   "metadata": {},
   "outputs": [],
   "source": [
    "# load pre-trained qres model\n",
    "model_name = 'qres17m'\n",
    "lmb_value = 64\n",
    "nc_model = get_model(model_name, lmb_value, pretrained=True).to(device) # weights are downloaded automatically"
   ]
  },
  {
   "cell_type": "code",
   "execution_count": 5,
   "metadata": {},
   "outputs": [],
   "source": [
    "RFW_IMAGES_DIR =  \"/media/global_data/fair_neural_compression_data/datasets/RFW/data_64\"\n",
    "RFW_LABELS_DIR = \"/media/global_data/fair_neural_compression_data/datasets/RFW/clean_metadata/numerical_labels.csv\"\n",
    "image_ds = RFW_raw(RFW_IMAGES_DIR, RFW_LABELS_DIR)\n",
    "image_dl_train, image_dl_test = create_dataloaders(image_ds, BATCH_SIZE, RATIO)\n",
    "latent_ds = RFW_latent(RFW_IMAGES_DIR, RFW_LABELS_DIR, nc_model, device)\n",
    "latent_dl_train, latent_dl_test = create_dataloaders(latent_ds, BATCH_SIZE, RATIO)"
   ]
  },
  {
   "cell_type": "code",
   "execution_count": 6,
   "metadata": {},
   "outputs": [],
   "source": [
    "# keep latents with n_keep\n",
    "def get_latent(img, nc_model, device, n_keep=12):\n",
    "        ps_layer = nn.PixelShuffle(2)\n",
    "        img = img.to(device)\n",
    "        # print(img.shape)\n",
    "        stats_all = nc_model.forward_get_latents(img)\n",
    "        latents = [stats_all[latent_block_index]['z'] for latent_block_index in range(12)]\n",
    "        if n_keep == 12:\n",
    "                output = torch.cat((F.interpolate(latents[0], 4),latents[1], latents[2]), 1)\n",
    "                output = torch.cat((F.interpolate(output, 8),latents[3], latents[4],latents[5], latents[6]), 1)\n",
    "                output = torch.cat((F.interpolate(output, 16),latents[7], latents[8],latents[9], latents[10], latents[11]), 1)\n",
    "                output = ps_layer(output)\n",
    "        elif n_keep == 1:\n",
    "                output = latents[0]\n",
    "        return output"
   ]
  },
  {
   "cell_type": "code",
   "execution_count": 7,
   "metadata": {},
   "outputs": [],
   "source": [
    "output_dims = {\n",
    "    'skin_type': 6,\n",
    "    'eye_type': 2,\n",
    "    'nose_type': 2,\n",
    "    'lip_type': 2,\n",
    "    'hair_type': 4,\n",
    "    'hair_color': 5\n",
    "}\n",
    "\n",
    "# model = MultiHeadResNet(output_dims).to(device)\n",
    "model = LatentMultiHead_1(output_dims).to(device)"
   ]
  },
  {
   "cell_type": "code",
   "execution_count": 8,
   "metadata": {},
   "outputs": [],
   "source": [
    "def train_numerical_rfw(num_epochs, lr, train_loader, device):\n",
    "    criterion = nn.CrossEntropyLoss()\n",
    "    optimizer = torch.optim.SGD(model.parameters(), lr=lr)\n",
    "    for epoch in range(num_epochs):\n",
    "        running_loss = 0.0\n",
    "        with tqdm(total=len(train_loader), desc=f\"Epoch {epoch+1}/{num_epochs}\") as pbar:\n",
    "            for inputs, targets, races in train_loader:\n",
    "                # print(inputs.shape)\n",
    "                latents = get_latent(inputs, nc_model, device, n_keep=1)\n",
    "                # inputs, targets = inputs.to(device), targets.to(device)\n",
    "                targets = targets.to(device)\n",
    "                optimizer.zero_grad()\n",
    "                outputs = model(latents)\n",
    "                loss = 0\n",
    "                for i, head in enumerate(outputs):\n",
    "                    loss += criterion(outputs[head], targets[:, i].to(torch.int64))\n",
    "                loss.backward()\n",
    "                optimizer.step()\n",
    "                running_loss += loss.item() * inputs.size(0)\n",
    "                avg_loss = running_loss / ((pbar.n + 1) * len(latents))  # Compute average loss\n",
    "                pbar.set_postfix(loss=avg_loss)\n",
    "                pbar.update(1)\n",
    "    return model"
   ]
  },
  {
   "cell_type": "code",
   "execution_count": 10,
   "metadata": {},
   "outputs": [
    {
     "name": "stderr",
     "output_type": "stream",
     "text": [
      "Epoch 1/2000: 100%|██████████| 32/32 [00:16<00:00,  1.91it/s, loss=8.08]\n",
      "Epoch 2/2000: 100%|██████████| 32/32 [00:16<00:00,  1.92it/s, loss=8.08]\n",
      "Epoch 3/2000: 100%|██████████| 32/32 [00:16<00:00,  1.89it/s, loss=8.08]\n",
      "Epoch 4/2000: 100%|██████████| 32/32 [00:16<00:00,  1.91it/s, loss=8.08]\n",
      "Epoch 5/2000: 100%|██████████| 32/32 [00:16<00:00,  1.91it/s, loss=8.08]\n",
      "Epoch 6/2000: 100%|██████████| 32/32 [00:16<00:00,  1.89it/s, loss=8.08]\n",
      "Epoch 7/2000: 100%|██████████| 32/32 [00:16<00:00,  1.91it/s, loss=8.07]\n",
      "Epoch 8/2000: 100%|██████████| 32/32 [00:16<00:00,  1.91it/s, loss=8.07]\n",
      "Epoch 9/2000: 100%|██████████| 32/32 [00:16<00:00,  1.91it/s, loss=8.07]\n",
      "Epoch 10/2000: 100%|██████████| 32/32 [00:16<00:00,  1.89it/s, loss=8.07]\n",
      "Epoch 11/2000: 100%|██████████| 32/32 [00:16<00:00,  1.91it/s, loss=8.07]\n",
      "Epoch 12/2000: 100%|██████████| 32/32 [00:16<00:00,  1.91it/s, loss=8.07]\n",
      "Epoch 13/2000: 100%|██████████| 32/32 [00:16<00:00,  1.91it/s, loss=8.07]\n",
      "Epoch 14/2000: 100%|██████████| 32/32 [00:16<00:00,  1.89it/s, loss=8.07]\n",
      "Epoch 15/2000: 100%|██████████| 32/32 [00:16<00:00,  1.91it/s, loss=8.07]\n",
      "Epoch 16/2000: 100%|██████████| 32/32 [00:16<00:00,  1.91it/s, loss=8.07]\n",
      "Epoch 17/2000: 100%|██████████| 32/32 [00:16<00:00,  1.89it/s, loss=8.07]\n",
      "Epoch 18/2000: 100%|██████████| 32/32 [00:16<00:00,  1.91it/s, loss=8.07]\n",
      "Epoch 19/2000: 100%|██████████| 32/32 [00:16<00:00,  1.91it/s, loss=8.07]\n",
      "Epoch 20/2000: 100%|██████████| 32/32 [00:16<00:00,  1.91it/s, loss=8.07]\n",
      "Epoch 21/2000: 100%|██████████| 32/32 [00:16<00:00,  1.89it/s, loss=8.07]\n",
      "Epoch 22/2000: 100%|██████████| 32/32 [00:16<00:00,  1.91it/s, loss=8.06]\n",
      "Epoch 23/2000: 100%|██████████| 32/32 [00:16<00:00,  1.91it/s, loss=8.06]\n",
      "Epoch 24/2000: 100%|██████████| 32/32 [00:16<00:00,  1.91it/s, loss=8.07]\n",
      "Epoch 25/2000: 100%|██████████| 32/32 [00:16<00:00,  1.89it/s, loss=8.07]\n",
      "Epoch 26/2000: 100%|██████████| 32/32 [00:16<00:00,  1.91it/s, loss=8.07]\n",
      "Epoch 27/2000: 100%|██████████| 32/32 [00:16<00:00,  1.91it/s, loss=8.06]\n",
      "Epoch 28/2000: 100%|██████████| 32/32 [00:16<00:00,  1.89it/s, loss=8.06]\n",
      "Epoch 29/2000: 100%|██████████| 32/32 [00:16<00:00,  1.91it/s, loss=8.06]\n",
      "Epoch 30/2000: 100%|██████████| 32/32 [00:16<00:00,  1.91it/s, loss=8.06]\n",
      "Epoch 31/2000: 100%|██████████| 32/32 [00:16<00:00,  1.91it/s, loss=8.06]\n",
      "Epoch 32/2000: 100%|██████████| 32/32 [00:16<00:00,  1.89it/s, loss=8.06]\n",
      "Epoch 33/2000:  69%|██████▉   | 22/32 [00:12<00:05,  1.83it/s, loss=5.89]\n"
     ]
    },
    {
     "ename": "KeyboardInterrupt",
     "evalue": "",
     "output_type": "error",
     "traceback": [
      "\u001b[0;31m---------------------------------------------------------------------------\u001b[0m",
      "\u001b[0;31mKeyboardInterrupt\u001b[0m                         Traceback (most recent call last)",
      "Cell \u001b[0;32mIn[10], line 3\u001b[0m\n\u001b[1;32m      1\u001b[0m \u001b[38;5;66;03m# model = train_numerical_rfw(10, LEARNING_RATE, latent_dl_train, device)\u001b[39;00m\n\u001b[1;32m      2\u001b[0m LEARNING_RATE \u001b[38;5;241m=\u001b[39m \u001b[38;5;241m0.01\u001b[39m\n\u001b[0;32m----> 3\u001b[0m model \u001b[38;5;241m=\u001b[39m \u001b[43mtrain_numerical_rfw\u001b[49m\u001b[43m(\u001b[49m\u001b[38;5;241;43m2000\u001b[39;49m\u001b[43m,\u001b[49m\u001b[43m \u001b[49m\u001b[43mLEARNING_RATE\u001b[49m\u001b[43m,\u001b[49m\u001b[43m \u001b[49m\u001b[43mimage_dl_train\u001b[49m\u001b[43m,\u001b[49m\u001b[43m \u001b[49m\u001b[43mdevice\u001b[49m\u001b[43m)\u001b[49m\n\u001b[1;32m      4\u001b[0m save_model(model, \u001b[38;5;124m'\u001b[39m\u001b[38;5;124m../models\u001b[39m\u001b[38;5;124m'\u001b[39m, \u001b[38;5;124m'\u001b[39m\u001b[38;5;124mlatent_RFW_numerical_all_labels_resnet18\u001b[39m\u001b[38;5;124m'\u001b[39m)\n",
      "Cell \u001b[0;32mIn[8], line 9\u001b[0m, in \u001b[0;36mtrain_numerical_rfw\u001b[0;34m(num_epochs, lr, train_loader, device)\u001b[0m\n\u001b[1;32m      6\u001b[0m \u001b[38;5;28;01mwith\u001b[39;00m tqdm(total\u001b[38;5;241m=\u001b[39m\u001b[38;5;28mlen\u001b[39m(train_loader), desc\u001b[38;5;241m=\u001b[39m\u001b[38;5;124mf\u001b[39m\u001b[38;5;124m\"\u001b[39m\u001b[38;5;124mEpoch \u001b[39m\u001b[38;5;132;01m{\u001b[39;00mepoch\u001b[38;5;241m+\u001b[39m\u001b[38;5;241m1\u001b[39m\u001b[38;5;132;01m}\u001b[39;00m\u001b[38;5;124m/\u001b[39m\u001b[38;5;132;01m{\u001b[39;00mnum_epochs\u001b[38;5;132;01m}\u001b[39;00m\u001b[38;5;124m\"\u001b[39m) \u001b[38;5;28;01mas\u001b[39;00m pbar:\n\u001b[1;32m      7\u001b[0m     \u001b[38;5;28;01mfor\u001b[39;00m inputs, targets, races \u001b[38;5;129;01min\u001b[39;00m train_loader:\n\u001b[1;32m      8\u001b[0m         \u001b[38;5;66;03m# print(inputs.shape)\u001b[39;00m\n\u001b[0;32m----> 9\u001b[0m         latents \u001b[38;5;241m=\u001b[39m \u001b[43mget_latent\u001b[49m\u001b[43m(\u001b[49m\u001b[43minputs\u001b[49m\u001b[43m,\u001b[49m\u001b[43m \u001b[49m\u001b[43mnc_model\u001b[49m\u001b[43m,\u001b[49m\u001b[43m \u001b[49m\u001b[43mdevice\u001b[49m\u001b[43m,\u001b[49m\u001b[43m \u001b[49m\u001b[43mn_keep\u001b[49m\u001b[38;5;241;43m=\u001b[39;49m\u001b[38;5;241;43m1\u001b[39;49m\u001b[43m)\u001b[49m\n\u001b[1;32m     10\u001b[0m         \u001b[38;5;66;03m# inputs, targets = inputs.to(device), targets.to(device)\u001b[39;00m\n\u001b[1;32m     11\u001b[0m         targets \u001b[38;5;241m=\u001b[39m targets\u001b[38;5;241m.\u001b[39mto(device)\n",
      "Cell \u001b[0;32mIn[6], line 6\u001b[0m, in \u001b[0;36mget_latent\u001b[0;34m(img, nc_model, device, n_keep)\u001b[0m\n\u001b[1;32m      4\u001b[0m img \u001b[38;5;241m=\u001b[39m img\u001b[38;5;241m.\u001b[39mto(device)\n\u001b[1;32m      5\u001b[0m \u001b[38;5;66;03m# print(img.shape)\u001b[39;00m\n\u001b[0;32m----> 6\u001b[0m stats_all \u001b[38;5;241m=\u001b[39m \u001b[43mnc_model\u001b[49m\u001b[38;5;241;43m.\u001b[39;49m\u001b[43mforward_get_latents\u001b[49m\u001b[43m(\u001b[49m\u001b[43mimg\u001b[49m\u001b[43m)\u001b[49m\n\u001b[1;32m      7\u001b[0m latents \u001b[38;5;241m=\u001b[39m [stats_all[latent_block_index][\u001b[38;5;124m'\u001b[39m\u001b[38;5;124mz\u001b[39m\u001b[38;5;124m'\u001b[39m] \u001b[38;5;28;01mfor\u001b[39;00m latent_block_index \u001b[38;5;129;01min\u001b[39;00m \u001b[38;5;28mrange\u001b[39m(\u001b[38;5;241m12\u001b[39m)]\n\u001b[1;32m      8\u001b[0m \u001b[38;5;28;01mif\u001b[39;00m n_keep \u001b[38;5;241m==\u001b[39m \u001b[38;5;241m12\u001b[39m:\n",
      "File \u001b[0;32m~/NeuralCompression/lossy-vae/lvae/models/qresvae/model.py:610\u001b[0m, in \u001b[0;36mHierarchicalVAE.forward_get_latents\u001b[0;34m(self, im)\u001b[0m\n\u001b[1;32m    608\u001b[0m x \u001b[38;5;241m=\u001b[39m \u001b[38;5;28mself\u001b[39m\u001b[38;5;241m.\u001b[39mpreprocess_input(im)\n\u001b[1;32m    609\u001b[0m activations \u001b[38;5;241m=\u001b[39m \u001b[38;5;28mself\u001b[39m\u001b[38;5;241m.\u001b[39mencoder\u001b[38;5;241m.\u001b[39mforward(x)\n\u001b[0;32m--> 610\u001b[0m _, stats \u001b[38;5;241m=\u001b[39m \u001b[38;5;28;43mself\u001b[39;49m\u001b[38;5;241;43m.\u001b[39;49m\u001b[43mdecoder\u001b[49m\u001b[38;5;241;43m.\u001b[39;49m\u001b[43mforward\u001b[49m\u001b[43m(\u001b[49m\u001b[43mactivations\u001b[49m\u001b[43m,\u001b[49m\u001b[43m \u001b[49m\u001b[43mget_latents\u001b[49m\u001b[38;5;241;43m=\u001b[39;49m\u001b[38;5;28;43;01mTrue\u001b[39;49;00m\u001b[43m)\u001b[49m\n\u001b[1;32m    611\u001b[0m \u001b[38;5;28;01mreturn\u001b[39;00m stats\n",
      "File \u001b[0;32m~/NeuralCompression/lossy-vae/lvae/models/qresvae/model.py:387\u001b[0m, in \u001b[0;36mTopDownDecoder.forward\u001b[0;34m(self, enc_features, get_latents)\u001b[0m\n\u001b[1;32m    385\u001b[0m     res \u001b[38;5;241m=\u001b[39m \u001b[38;5;28mint\u001b[39m(feature\u001b[38;5;241m.\u001b[39mshape[\u001b[38;5;241m2\u001b[39m])\n\u001b[1;32m    386\u001b[0m     f_enc \u001b[38;5;241m=\u001b[39m enc_features[res]\n\u001b[0;32m--> 387\u001b[0m     feature, block_stats \u001b[38;5;241m=\u001b[39m \u001b[43mblock\u001b[49m\u001b[38;5;241;43m.\u001b[39;49m\u001b[43mforward_train\u001b[49m\u001b[43m(\u001b[49m\u001b[43mfeature\u001b[49m\u001b[43m,\u001b[49m\u001b[43m \u001b[49m\u001b[43mf_enc\u001b[49m\u001b[43m,\u001b[49m\u001b[43m \u001b[49m\u001b[43mget_latents\u001b[49m\u001b[38;5;241;43m=\u001b[39;49m\u001b[43mget_latents\u001b[49m\u001b[43m)\u001b[49m\n\u001b[1;32m    388\u001b[0m     stats\u001b[38;5;241m.\u001b[39mappend(block_stats)\n\u001b[1;32m    389\u001b[0m \u001b[38;5;28;01melse\u001b[39;00m:\n",
      "File \u001b[0;32m~/NeuralCompression/lossy-vae/lvae/models/qresvae/model.py:272\u001b[0m, in \u001b[0;36mQLatentBlockX.forward_train\u001b[0;34m(self, feature, enc_feature, get_latents)\u001b[0m\n\u001b[1;32m    270\u001b[0m \u001b[38;5;28;01mif\u001b[39;00m \u001b[38;5;28mself\u001b[39m\u001b[38;5;241m.\u001b[39mtraining:\n\u001b[1;32m    271\u001b[0m     z_sample \u001b[38;5;241m=\u001b[39m qm \u001b[38;5;241m+\u001b[39m torch\u001b[38;5;241m.\u001b[39mempty_like(qm)\u001b[38;5;241m.\u001b[39muniform_(\u001b[38;5;241m-\u001b[39m\u001b[38;5;241m0.5\u001b[39m, \u001b[38;5;241m0.5\u001b[39m)\n\u001b[0;32m--> 272\u001b[0m     log_prob \u001b[38;5;241m=\u001b[39m \u001b[43mgaussian_log_prob_mass\u001b[49m\u001b[43m(\u001b[49m\u001b[43mpm\u001b[49m\u001b[43m,\u001b[49m\u001b[43m \u001b[49m\u001b[43mpv\u001b[49m\u001b[43m,\u001b[49m\u001b[43m \u001b[49m\u001b[43mx\u001b[49m\u001b[38;5;241;43m=\u001b[39;49m\u001b[43mz_sample\u001b[49m\u001b[43m,\u001b[49m\u001b[43m \u001b[49m\u001b[43mbin_size\u001b[49m\u001b[38;5;241;43m=\u001b[39;49m\u001b[38;5;241;43m1.0\u001b[39;49m\u001b[43m,\u001b[49m\u001b[43m \u001b[49m\u001b[43mprob_clamp\u001b[49m\u001b[38;5;241;43m=\u001b[39;49m\u001b[38;5;241;43m1e-6\u001b[39;49m\u001b[43m)\u001b[49m\n\u001b[1;32m    273\u001b[0m     kl \u001b[38;5;241m=\u001b[39m \u001b[38;5;241m-\u001b[39m\u001b[38;5;241m1.0\u001b[39m \u001b[38;5;241m*\u001b[39m log_prob\n\u001b[1;32m    274\u001b[0m \u001b[38;5;28;01melse\u001b[39;00m:\n",
      "File \u001b[0;32m~/NeuralCompression/lossy-vae/lvae/models/entropy_coding.py:47\u001b[0m, in \u001b[0;36mgaussian_log_prob_mass\u001b[0;34m(mean, scale, x, bin_size, prob_clamp)\u001b[0m\n\u001b[1;32m     35\u001b[0m \u001b[38;5;250m\u001b[39m\u001b[38;5;124;03m\"\"\" Compute log(P) of a \"quantized\" Normal(`mean`, `scale`) distribution evaluated at `x`,\u001b[39;00m\n\u001b[1;32m     36\u001b[0m \u001b[38;5;124;03mwhere P = cdf(`x` + 0.5*bin_size) - cdf(`x` - 0.5*bin_size).\u001b[39;00m\n\u001b[1;32m     37\u001b[0m \n\u001b[0;32m   (...)\u001b[0m\n\u001b[1;32m     44\u001b[0m \u001b[38;5;124;03m        to improve numerical stability.\u001b[39;00m\n\u001b[1;32m     45\u001b[0m \u001b[38;5;124;03m\"\"\"\u001b[39;00m\n\u001b[1;32m     46\u001b[0m mean, scale, x \u001b[38;5;241m=\u001b[39m _to_float32(mean, scale, x)\n\u001b[0;32m---> 47\u001b[0m \u001b[38;5;28;01massert\u001b[39;00m scale\u001b[38;5;241m.\u001b[39mmin() \u001b[38;5;241m>\u001b[39m \u001b[38;5;241m0\u001b[39m, \u001b[38;5;124mf\u001b[39m\u001b[38;5;124m'\u001b[39m\u001b[38;5;124minvalid scale value = \u001b[39m\u001b[38;5;132;01m{\u001b[39;00mscale\u001b[38;5;241m.\u001b[39mmin()\u001b[38;5;132;01m}\u001b[39;00m\u001b[38;5;124m'\u001b[39m\n\u001b[1;32m     48\u001b[0m log_prob \u001b[38;5;241m=\u001b[39m _safe_log_prob_mass(td\u001b[38;5;241m.\u001b[39mNormal(mean, scale), x, bin_size, prob_clamp)\n\u001b[1;32m     49\u001b[0m \u001b[38;5;28;01mreturn\u001b[39;00m log_prob\n",
      "\u001b[0;31mKeyboardInterrupt\u001b[0m: "
     ]
    },
    {
     "ename": "",
     "evalue": "",
     "output_type": "error",
     "traceback": [
      "\u001b[1;31mThe Kernel crashed while executing code in the current cell or a previous cell. \n",
      "\u001b[1;31mPlease review the code in the cell(s) to identify a possible cause of the failure. \n",
      "\u001b[1;31mClick <a href='https://aka.ms/vscodeJupyterKernelCrash'>here</a> for more info. \n",
      "\u001b[1;31mView Jupyter <a href='command:jupyter.viewOutput'>log</a> for further details."
     ]
    }
   ],
   "source": [
    "# model = train_numerical_rfw(10, LEARNING_RATE, latent_dl_train, device)\n",
    "LEARNING_RATE = 0.01\n",
    "model = train_numerical_rfw(2000, LEARNING_RATE, image_dl_train, device)\n",
    "save_model(model, '../models', 'latent_RFW_numerical_all_labels_resnet18')"
   ]
  },
  {
   "cell_type": "code",
   "execution_count": null,
   "metadata": {},
   "outputs": [],
   "source": [
    "import pandas as pd\n",
    "rfw_labels = pd.read_csv('/media/global_data/fair_neural_compression_data/datasets/RFW/clean_metadata/clean.csv')\n",
    "rfw_labels.head()"
   ]
  },
  {
   "cell_type": "code",
   "execution_count": null,
   "metadata": {},
   "outputs": [],
   "source": [
    "def select_random_images(df, num_images_per_type=6):\n",
    "    selected_images = []\n",
    "    for skintype_col in ['skintype_type1', 'skintype_type2', 'skintype_type3', 'skintype_type4', 'skintype_type5', 'skintype_type6']:\n",
    "        skin_type = skintype_col.split('_')[-1]  # Extract the skin type from the column name\n",
    "        # Select images for each skin type\n",
    "        images = df[df[skintype_col] == 1].sample(num_images_per_type)\n",
    "        selected_images.extend([[skin_type, class_id, image_path] for class_id, image_path in images[['Class_ID', 'File']].values.tolist()])\n",
    "    return selected_images"
   ]
  },
  {
   "cell_type": "code",
   "execution_count": null,
   "metadata": {},
   "outputs": [],
   "source": [
    "import matplotlib.pyplot as plt\n",
    "random_images = select_random_images(rfw_labels)\n",
    "print(f'random_images: {random_images[:4]}')\n",
    "num_rows = 6\n",
    "num_cols = 6\n",
    "fig, axs = plt.subplots(num_rows, num_cols, figsize=(20, 20))\n",
    "\n",
    "for i, (skin_type, class_id, image_path) in enumerate(random_images):\n",
    "    row = i // num_cols\n",
    "    col = i % num_cols\n",
    "    img = plt.imread(f'{RFW_IMAGES_DIR}/{class_id}/{image_path}')\n",
    "    axs[row, col].imshow(img)\n",
    "    axs[row, col].set_title(f\"Skin Type: {skin_type}\\nClass ID: {class_id}\")\n",
    "    axs[row, col].axis('off')\n",
    "\n",
    "plt.tight_layout()\n",
    "plt.show()"
   ]
  },
  {
   "cell_type": "code",
   "execution_count": null,
   "metadata": {},
   "outputs": [],
   "source": [
    "import torch\n",
    "# model_path = 'models/RFW_numerical_no_skin_resnet18_2024-05-06_16-07-26.pth'\n",
    "model_path = '../models/latent_RFW_numerical_all_labels_resnet18_2024-05-08_23-38-13.pth'\n",
    "model = torch.load(model_path)"
   ]
  },
  {
   "cell_type": "code",
   "execution_count": null,
   "metadata": {},
   "outputs": [],
   "source": [
    "model_name = 'latent_RFW_numerical_all_labels_resnet18_2024-05-08_23-38-13'"
   ]
  },
  {
   "cell_type": "code",
   "execution_count": null,
   "metadata": {},
   "outputs": [],
   "source": [
    "from tqdm import tqdm\n",
    "import numpy as np\n",
    "\n",
    "def save_race_based_predictions(\n",
    "        model, \n",
    "        model_name, \n",
    "        dataloader, \n",
    "        device, \n",
    "        prediction_save_dir,\n",
    "        save_labels=False\n",
    "    ):\n",
    "    all_predictions = {'Indian': {head: torch.tensor([]) for head in model.heads.keys()}, \n",
    "                       'Caucasian': {head: torch.tensor([]) for head in model.heads.keys()}, \n",
    "                       'Asian': {head: torch.tensor([]) for head in model.heads.keys()},  \n",
    "                       'African': {head: torch.tensor([]) for head in model.heads.keys()}}\n",
    "    all_labels = {'Indian': {head: torch.tensor([]) for head in model.heads.keys()}, \n",
    "                  'Caucasian': {head: torch.tensor([]) for head in model.heads.keys()}, \n",
    "                  'Asian': {head: torch.tensor([]) for head in model.heads.keys()}, \n",
    "                  'African': {head: torch.tensor([]) for head in model.heads.keys()}}\n",
    "    \n",
    "    print(f'prediction_save_dir: {prediction_save_dir}')\n",
    "    dataloader = tqdm(dataloader, desc=\"Getting Predictions\", unit=\"batch\")\n",
    "    model.eval()\n",
    "    with torch.no_grad():\n",
    "        for _, data in enumerate(dataloader):\n",
    "            inputs, labels, race = data\n",
    "            # print(inputs.shape)\n",
    "            race = np.array(race)\n",
    "            latents = get_latent(inputs, nc_model, device)\n",
    "            # inputs = inputs.to(device)\n",
    "            labels = labels.to(device)\n",
    "            outputs = model(latents)\n",
    "\n",
    "            for i, (head, predictions) in enumerate(outputs.items()):\n",
    "                head_preds = predictions.argmax(dim=1).cpu()\n",
    "\n",
    "                for race_label in all_labels:\n",
    "                    race_indices = np.array((race == race_label).nonzero()[0])\n",
    "                    race_predictions = head_preds[race_indices]\n",
    "                    race_labels = labels[:, i][race_indices]\n",
    "                \n",
    "                    all_predictions[race_label][head] = torch.cat((all_predictions[race_label][head], race_predictions.to('cpu')), dim=0)\n",
    "                    all_labels[race_label][head] = torch.cat((all_labels[race_label][head], race_labels.to('cpu')), dim=0)\n",
    "\n",
    "    for race_label in all_labels:\n",
    "        for category in all_labels[race_label]:\n",
    "            torch.save(all_predictions[race_label][category], f'{prediction_save_dir}/{model_name}_{race_label}_{category}_predictions.pt')\n",
    "            if save_labels:\n",
    "                torch.save(all_labels[race_label][category], f'{prediction_save_dir}/{model_name}_{race_label}_{category}_labels.pt')\n",
    "\n",
    "    return all_predictions, all_labels\n"
   ]
  },
  {
   "cell_type": "code",
   "execution_count": null,
   "metadata": {},
   "outputs": [],
   "source": [
    "all_predictions, all_labels = save_race_based_predictions(model,\n",
    "                                                model_name,\n",
    "                                                image_dl_test, \n",
    "                                                device, \n",
    "                                                '../results/latent_RFW/predictions',\n",
    "                                            )"
   ]
  },
  {
   "cell_type": "markdown",
   "metadata": {},
   "source": [
    "# get baseline results"
   ]
  },
  {
   "cell_type": "code",
   "execution_count": null,
   "metadata": {},
   "outputs": [],
   "source": [
    "from sklearn.metrics import accuracy_score, precision_score, recall_score, f1_score\n",
    "\n",
    "all_baseline_results = {}\n",
    "for race in all_predictions:\n",
    "    all_baseline_results[race] = {}\n",
    "    for category in all_predictions[race]:\n",
    "        all_baseline_results[race][category] = {}\n",
    "        \n",
    "        preds = all_predictions[race][category]\n",
    "        labels = all_labels[race][category]\n",
    "        all_baseline_results[race][category]['accuracy'] = accuracy_score(labels, preds)\n",
    "        all_baseline_results[race][category]['precision'] = precision_score(labels, preds, average='weighted')\n",
    "        all_baseline_results[race][category]['recall'] = recall_score(labels, preds, average='weighted')\n",
    "        all_baseline_results[race][category]['f1'] = f1_score(labels, preds, average='weighted')"
   ]
  },
  {
   "cell_type": "markdown",
   "metadata": {},
   "source": []
  },
  {
   "cell_type": "code",
   "execution_count": null,
   "metadata": {},
   "outputs": [],
   "source": [
    "all_baseline_results"
   ]
  },
  {
   "cell_type": "code",
   "execution_count": null,
   "metadata": {},
   "outputs": [],
   "source": [
    "import matplotlib.pyplot as plt\n",
    "\n",
    "for race in all_baseline_results:\n",
    "    \n",
    "    fig, axs = plt.subplots(1, len(all_baseline_results['Indian']), figsize=(24, 5))\n",
    "    for i, (category, metrics) in enumerate(all_baseline_results[race].items()):\n",
    "        axs[i].bar(metrics.keys(), metrics.values())\n",
    "        axs[i].set_title(category)\n",
    "        axs[i].set_ylabel('Score')\n",
    "        axs[i].set_ylim(0, 1)  # Limit y-axis to range [0, 1] for better visualization\n",
    "\n",
    "    # plt.savefig(f'results/RFW/plots/baselines/baseline_{race}_results.png')\n",
    "    plt.suptitle(race)\n",
    "    plt.tight_layout()\n",
    "    plt.show()"
   ]
  },
  {
   "cell_type": "code",
   "execution_count": null,
   "metadata": {},
   "outputs": [],
   "source": []
  }
 ],
 "metadata": {
  "kernelspec": {
   "display_name": "fnc_eval",
   "language": "python",
   "name": "fnc_eval"
  },
  "language_info": {
   "codemirror_mode": {
    "name": "ipython",
    "version": 3
   },
   "file_extension": ".py",
   "mimetype": "text/x-python",
   "name": "python",
   "nbconvert_exporter": "python",
   "pygments_lexer": "ipython3",
   "version": "3.9.19"
  }
 },
 "nbformat": 4,
 "nbformat_minor": 2
}
