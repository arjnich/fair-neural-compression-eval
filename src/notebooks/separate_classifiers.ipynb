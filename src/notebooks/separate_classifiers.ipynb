{
 "cells": [
  {
   "cell_type": "code",
   "execution_count": 16,
   "metadata": {},
   "outputs": [],
   "source": [
    "import sys\n",
    "sys.path.append(\"..\")\n",
    "import torch\n",
    "from torchvision.models import inception_v3\n",
    "from torchvision import transforms\n",
    "from torch.nn.functional import adaptive_avg_pool2d\n",
    "\n",
    "from PIL import Image\n",
    "import numpy as np\n",
    "import pandas as pd\n",
    "import os\n",
    "from tqdm import tqdm\n",
    "import torch\n",
    "import torch.nn as nn\n",
    "import torch.nn.functional as F\n",
    "import torchvision.models as models\n",
    "\n",
    "import torch\n",
    "seed = 42\n",
    "_ = torch.manual_seed(seed)\n",
    "from train_utils import create_model, save_model, \\\n",
    "    generate_dataloaders, \\\n",
    "    DEFAULT_OUTPUT_DIMS, save_race_based_predictions, ATTRIBUTE_INDECIES\n",
    "\n",
    "from sklearn.metrics import classification_report, confusion_matrix"
   ]
  },
  {
   "cell_type": "code",
   "execution_count": 2,
   "metadata": {},
   "outputs": [
    {
     "data": {
      "text/plain": [
       "{'skin_type': 0,\n",
       " 'lip_type': 1,\n",
       " 'nose_type': 2,\n",
       " 'eye_type': 3,\n",
       " 'hair_type': 4,\n",
       " 'hair_color': 5}"
      ]
     },
     "execution_count": 2,
     "metadata": {},
     "output_type": "execute_result"
    }
   ],
   "source": [
    "ATTRIBUTE_INDECIES"
   ]
  },
  {
   "cell_type": "code",
   "execution_count": 3,
   "metadata": {},
   "outputs": [],
   "source": [
    "RFW_IMAGES_DIR =  \"/media/global_data/fair_neural_compression_data/datasets/RFW/data_64\"\n",
    "RFW_LABELS_DIR = \"/media/global_data/fair_neural_compression_data/datasets/RFW/clean_metadata/numerical_labels.csv\"\n",
    "DEVICE = 2\n",
    "device = torch.device(f'cuda:{DEVICE}' if torch.cuda.is_available() else 'cpu')\n",
    "LEARNING_RATE = 0.01\n",
    "BATCH_SIZE = 32\n",
    "EPOCHS = 30\n",
    "kept_features = ['hair_color']"
   ]
  },
  {
   "cell_type": "code",
   "execution_count": 4,
   "metadata": {},
   "outputs": [
    {
     "name": "stderr",
     "output_type": "stream",
     "text": [
      "/home/rasta/.conda/envs/fnc_eval/lib/python3.9/site-packages/torchvision/models/_utils.py:208: UserWarning: The parameter 'pretrained' is deprecated since 0.13 and may be removed in the future, please use 'weights' instead.\n",
      "  warnings.warn(\n",
      "/home/rasta/.conda/envs/fnc_eval/lib/python3.9/site-packages/torchvision/models/_utils.py:223: UserWarning: Arguments other than a weight enum or `None` for 'weights' are deprecated since 0.13 and may be removed in the future. The current behavior is equivalent to passing `weights=ResNet18_Weights.IMAGENET1K_V1`. You can also use `weights=ResNet18_Weights.DEFAULT` to get the most up-to-date weights.\n",
      "  warnings.warn(msg)\n"
     ]
    },
    {
     "name": "stdout",
     "output_type": "stream",
     "text": [
      "Creating a multi-head ResNet18 with the following heads:\n",
      "\to hair_color\n"
     ]
    }
   ],
   "source": [
    "output_dims = {feature: DEFAULT_OUTPUT_DIMS[feature] for feature in kept_features}\n",
    "model = create_model(\n",
    "    device, \n",
    "    output_dims\n",
    ")"
   ]
  },
  {
   "cell_type": "code",
   "execution_count": 5,
   "metadata": {},
   "outputs": [
    {
     "name": "stderr",
     "output_type": "stream",
     "text": [
      "/home/rasta/.conda/envs/fnc_eval/lib/python3.9/site-packages/torchvision/transforms/v2/_deprecated.py:41: UserWarning: The transform `ToTensor()` is deprecated and will be removed in a future release. Instead, please use `v2.Compose([v2.ToImage(), v2.ToDtype(torch.float32, scale=True)])`.\n",
      "  warnings.warn(\n"
     ]
    }
   ],
   "source": [
    "train_loader, val_loader, test_loader = generate_dataloaders(RFW_IMAGES_DIR, BATCH_SIZE, 0.7)"
   ]
  },
  {
   "cell_type": "code",
   "execution_count": 15,
   "metadata": {},
   "outputs": [
    {
     "data": {
      "text/plain": [
       "tensor([0., 1., 2., 3., 4.])"
      ]
     },
     "execution_count": 15,
     "metadata": {},
     "output_type": "execute_result"
    }
   ],
   "source": [
    "next(iter(train_loader))[1][:, ATTRIBUTE_INDECIES['hair_color']].unique()"
   ]
  },
  {
   "cell_type": "code",
   "execution_count": 29,
   "metadata": {},
   "outputs": [],
   "source": [
    "def train_numerical_rfw(\n",
    "        model, \n",
    "        optimizer,\n",
    "        num_epochs, \n",
    "        lr, \n",
    "        train_loader, \n",
    "        valid_loader,\n",
    "        device,\n",
    "        save_dir,\n",
    "        patience=5  # Number of epochs to wait for improvement in validation loss before stopping\n",
    "    ):\n",
    "    criterion = nn.CrossEntropyLoss()\n",
    "    # optimizer = torch.optim.SGD(model.parameters(), lr=lr)\n",
    "    optimizer = optimizer(model.parameters(), lr=lr)\n",
    "    \n",
    "    train_losses = []\n",
    "    valid_losses = []\n",
    "    \n",
    "    best_valid_loss = float('inf')\n",
    "    no_improvement_count = 0\n",
    "    \n",
    "    for epoch in range(num_epochs):\n",
    "        model.train()\n",
    "        running_train_loss = 0.0\n",
    "        with tqdm(total=len(train_loader), desc=f\"Epoch {epoch+1}/{num_epochs} - Training\") as pbar:\n",
    "            for inputs, targets, races in train_loader:\n",
    "                inputs, targets = inputs.to(device).float(), targets.to(device)\n",
    "                optimizer.zero_grad()\n",
    "                outputs = model(inputs)\n",
    "                loss = 0\n",
    "                for i, head in enumerate(outputs):\n",
    "                    loss += criterion(outputs[head], targets[:, ATTRIBUTE_INDECIES[head]].to(torch.int64))\n",
    "                loss.backward()\n",
    "                optimizer.step()\n",
    "                running_train_loss += loss.item() * inputs.size(0)\n",
    "                pbar.update(1)\n",
    "            avg_train_loss = running_train_loss / len(train_loader.dataset)\n",
    "            pbar.set_postfix(train_loss=avg_train_loss)\n",
    "        \n",
    "        print(f'Epoch {epoch + 1} train loss : {avg_train_loss}')\n",
    "        train_losses.append(avg_train_loss)\n",
    "        \n",
    "        # Validation phase\n",
    "        model.eval()\n",
    "        running_valid_loss = 0.0\n",
    "        with torch.no_grad():\n",
    "            with tqdm(total=len(valid_loader), desc=f\"Epoch {epoch+1}/{num_epochs} - Validation\") as pbar:\n",
    "                for inputs, targets, races in valid_loader:\n",
    "                    inputs, targets = inputs.to(device).float(), targets.to(device)\n",
    "                    outputs = model(inputs)\n",
    "                    loss = 0\n",
    "                    for i, head in enumerate(outputs):\n",
    "                        # print(f'head: {head} - race:{np.unique(np.array(races))},  unique hairs: {targets[:, ATTRIBUTE_INDECIES[head]].unique()}')\n",
    "                        loss += criterion(outputs[head], targets[:, ATTRIBUTE_INDECIES[head]].to(torch.int64))\n",
    "                    running_valid_loss += loss.item() * inputs.size(0)\n",
    "                    pbar.update(1)\n",
    "                avg_valid_loss = running_valid_loss / len(valid_loader.dataset)  # Compute average validation loss\n",
    "                pbar.set_postfix(valid_loss=avg_valid_loss)\n",
    "        print(f'Epoch {epoch + 1} valid loss : {avg_valid_loss}')\n",
    "        valid_losses.append(avg_valid_loss)\n",
    "        \n",
    "        # Check for early stopping\n",
    "        if avg_valid_loss < best_valid_loss:\n",
    "            print(f'Found better model. Best loss: {avg_valid_loss}')\n",
    "            best_valid_loss = avg_valid_loss\n",
    "            no_improvement_count = 0\n",
    "            print(f'Saving best model to {save_dir}/best.pth')\n",
    "            torch.save(model, f'{save_dir}/best.pth')\n",
    "        else:\n",
    "            no_improvement_count += 1\n",
    "            if no_improvement_count >= patience:\n",
    "                print(f\"Early stopping at epoch {epoch+1}\")\n",
    "                break\n",
    "    model = torch.load(f'{save_dir}/best.pth')\n",
    "    return model, train_losses, valid_losses"
   ]
  },
  {
   "cell_type": "code",
   "execution_count": 45,
   "metadata": {},
   "outputs": [
    {
     "name": "stdout",
     "output_type": "stream",
     "text": [
      "Creating a multi-head ResNet18 with the following heads:\n",
      "\to hair_color\n"
     ]
    },
    {
     "name": "stderr",
     "output_type": "stream",
     "text": [
      "/home/rasta/.conda/envs/fnc_eval/lib/python3.9/site-packages/torchvision/models/_utils.py:208: UserWarning: The parameter 'pretrained' is deprecated since 0.13 and may be removed in the future, please use 'weights' instead.\n",
      "  warnings.warn(\n",
      "/home/rasta/.conda/envs/fnc_eval/lib/python3.9/site-packages/torchvision/models/_utils.py:223: UserWarning: Arguments other than a weight enum or `None` for 'weights' are deprecated since 0.13 and may be removed in the future. The current behavior is equivalent to passing `weights=ResNet18_Weights.IMAGENET1K_V1`. You can also use `weights=ResNet18_Weights.DEFAULT` to get the most up-to-date weights.\n",
      "  warnings.warn(msg)\n"
     ]
    }
   ],
   "source": [
    "output_dims = {feature: DEFAULT_OUTPUT_DIMS[feature] for feature in kept_features}\n",
    "model = create_model(\n",
    "    device, \n",
    "    output_dims\n",
    ")"
   ]
  },
  {
   "cell_type": "code",
   "execution_count": 46,
   "metadata": {},
   "outputs": [
    {
     "name": "stderr",
     "output_type": "stream",
     "text": [
      "Epoch 1/30 - Training: 100%|██████████| 889/889 [00:29<00:00, 30.59it/s, train_loss=1.28]\n"
     ]
    },
    {
     "name": "stdout",
     "output_type": "stream",
     "text": [
      "Epoch 1 train loss : 1.283617624356114\n"
     ]
    },
    {
     "name": "stderr",
     "output_type": "stream",
     "text": [
      "Epoch 1/30 - Validation: 100%|██████████| 191/191 [00:04<00:00, 42.51it/s, valid_loss=1.28]\n"
     ]
    },
    {
     "name": "stdout",
     "output_type": "stream",
     "text": [
      "Epoch 1 valid loss : 1.2792211523237653\n",
      "Found better model. Best loss: 1.2792211523237653\n",
      "Saving best model to /home/rasta/fair compression/fair-neural-compression-eval/models/converged_models/separate_models/hair_color/best.pth\n"
     ]
    },
    {
     "name": "stderr",
     "output_type": "stream",
     "text": [
      "Epoch 2/30 - Training: 100%|██████████| 889/889 [00:28<00:00, 30.86it/s, train_loss=1.28]\n"
     ]
    },
    {
     "name": "stdout",
     "output_type": "stream",
     "text": [
      "Epoch 2 train loss : 1.2810229088197853\n"
     ]
    },
    {
     "name": "stderr",
     "output_type": "stream",
     "text": [
      "Epoch 2/30 - Validation: 100%|██████████| 191/191 [00:04<00:00, 42.61it/s, valid_loss=1.28]\n"
     ]
    },
    {
     "name": "stdout",
     "output_type": "stream",
     "text": [
      "Epoch 2 valid loss : 1.2790531101846827\n",
      "Found better model. Best loss: 1.2790531101846827\n",
      "Saving best model to /home/rasta/fair compression/fair-neural-compression-eval/models/converged_models/separate_models/hair_color/best.pth\n"
     ]
    },
    {
     "name": "stderr",
     "output_type": "stream",
     "text": [
      "Epoch 3/30 - Training: 100%|██████████| 889/889 [00:29<00:00, 30.52it/s, train_loss=1.28]\n"
     ]
    },
    {
     "name": "stdout",
     "output_type": "stream",
     "text": [
      "Epoch 3 train loss : 1.2807723856831215\n"
     ]
    },
    {
     "name": "stderr",
     "output_type": "stream",
     "text": [
      "Epoch 3/30 - Validation: 100%|██████████| 191/191 [00:04<00:00, 42.51it/s, valid_loss=1.28]\n"
     ]
    },
    {
     "name": "stdout",
     "output_type": "stream",
     "text": [
      "Epoch 3 valid loss : 1.2783671750593335\n",
      "Found better model. Best loss: 1.2783671750593335\n",
      "Saving best model to /home/rasta/fair compression/fair-neural-compression-eval/models/converged_models/separate_models/hair_color/best.pth\n"
     ]
    },
    {
     "name": "stderr",
     "output_type": "stream",
     "text": [
      "Epoch 4/30 - Training: 100%|██████████| 889/889 [00:28<00:00, 30.97it/s, train_loss=1.27]\n"
     ]
    },
    {
     "name": "stdout",
     "output_type": "stream",
     "text": [
      "Epoch 4 train loss : 1.2669275649460208\n"
     ]
    },
    {
     "name": "stderr",
     "output_type": "stream",
     "text": [
      "Epoch 4/30 - Validation: 100%|██████████| 191/191 [00:04<00:00, 42.91it/s, valid_loss=1.25]\n"
     ]
    },
    {
     "name": "stdout",
     "output_type": "stream",
     "text": [
      "Epoch 4 valid loss : 1.2486720933954893\n",
      "Found better model. Best loss: 1.2486720933954893\n",
      "Saving best model to /home/rasta/fair compression/fair-neural-compression-eval/models/converged_models/separate_models/hair_color/best.pth\n"
     ]
    },
    {
     "name": "stderr",
     "output_type": "stream",
     "text": [
      "Epoch 5/30 - Training: 100%|██████████| 889/889 [00:28<00:00, 30.88it/s, train_loss=1.24]\n"
     ]
    },
    {
     "name": "stdout",
     "output_type": "stream",
     "text": [
      "Epoch 5 train loss : 1.2371160109345758\n"
     ]
    },
    {
     "name": "stderr",
     "output_type": "stream",
     "text": [
      "Epoch 5/30 - Validation: 100%|██████████| 191/191 [00:04<00:00, 42.84it/s, valid_loss=1.23]\n"
     ]
    },
    {
     "name": "stdout",
     "output_type": "stream",
     "text": [
      "Epoch 5 valid loss : 1.231673323644282\n",
      "Found better model. Best loss: 1.231673323644282\n",
      "Saving best model to /home/rasta/fair compression/fair-neural-compression-eval/models/converged_models/separate_models/hair_color/best.pth\n"
     ]
    },
    {
     "name": "stderr",
     "output_type": "stream",
     "text": [
      "Epoch 6/30 - Training: 100%|██████████| 889/889 [00:28<00:00, 31.07it/s, train_loss=1.22]\n"
     ]
    },
    {
     "name": "stdout",
     "output_type": "stream",
     "text": [
      "Epoch 6 train loss : 1.2198123586973002\n"
     ]
    },
    {
     "name": "stderr",
     "output_type": "stream",
     "text": [
      "Epoch 6/30 - Validation: 100%|██████████| 191/191 [00:04<00:00, 43.24it/s, valid_loss=1.21]\n"
     ]
    },
    {
     "name": "stdout",
     "output_type": "stream",
     "text": [
      "Epoch 6 valid loss : 1.2108005133976276\n",
      "Found better model. Best loss: 1.2108005133976276\n",
      "Saving best model to /home/rasta/fair compression/fair-neural-compression-eval/models/converged_models/separate_models/hair_color/best.pth\n"
     ]
    },
    {
     "name": "stderr",
     "output_type": "stream",
     "text": [
      "Epoch 7/30 - Training: 100%|██████████| 889/889 [00:28<00:00, 31.12it/s, train_loss=1.18]\n"
     ]
    },
    {
     "name": "stdout",
     "output_type": "stream",
     "text": [
      "Epoch 7 train loss : 1.1841159441287907\n"
     ]
    },
    {
     "name": "stderr",
     "output_type": "stream",
     "text": [
      "Epoch 7/30 - Validation: 100%|██████████| 191/191 [00:04<00:00, 42.98it/s, valid_loss=1.18]\n"
     ]
    },
    {
     "name": "stdout",
     "output_type": "stream",
     "text": [
      "Epoch 7 valid loss : 1.1848720294112858\n",
      "Found better model. Best loss: 1.1848720294112858\n",
      "Saving best model to /home/rasta/fair compression/fair-neural-compression-eval/models/converged_models/separate_models/hair_color/best.pth\n"
     ]
    },
    {
     "name": "stderr",
     "output_type": "stream",
     "text": [
      "Epoch 8/30 - Training: 100%|██████████| 889/889 [00:28<00:00, 31.07it/s, train_loss=1.16]\n"
     ]
    },
    {
     "name": "stdout",
     "output_type": "stream",
     "text": [
      "Epoch 8 train loss : 1.1570607552620984\n"
     ]
    },
    {
     "name": "stderr",
     "output_type": "stream",
     "text": [
      "Epoch 8/30 - Validation: 100%|██████████| 191/191 [00:04<00:00, 42.90it/s, valid_loss=1.18]\n"
     ]
    },
    {
     "name": "stdout",
     "output_type": "stream",
     "text": [
      "Epoch 8 valid loss : 1.17771185740053\n",
      "Found better model. Best loss: 1.17771185740053\n",
      "Saving best model to /home/rasta/fair compression/fair-neural-compression-eval/models/converged_models/separate_models/hair_color/best.pth\n"
     ]
    },
    {
     "name": "stderr",
     "output_type": "stream",
     "text": [
      "Epoch 9/30 - Training: 100%|██████████| 889/889 [00:28<00:00, 30.96it/s, train_loss=1.14]\n"
     ]
    },
    {
     "name": "stdout",
     "output_type": "stream",
     "text": [
      "Epoch 9 train loss : 1.1371370463045154\n"
     ]
    },
    {
     "name": "stderr",
     "output_type": "stream",
     "text": [
      "Epoch 9/30 - Validation: 100%|██████████| 191/191 [00:04<00:00, 43.09it/s, valid_loss=1.17]\n"
     ]
    },
    {
     "name": "stdout",
     "output_type": "stream",
     "text": [
      "Epoch 9 valid loss : 1.171360772694494\n",
      "Found better model. Best loss: 1.171360772694494\n",
      "Saving best model to /home/rasta/fair compression/fair-neural-compression-eval/models/converged_models/separate_models/hair_color/best.pth\n"
     ]
    },
    {
     "name": "stderr",
     "output_type": "stream",
     "text": [
      "Epoch 10/30 - Training: 100%|██████████| 889/889 [00:28<00:00, 30.91it/s, train_loss=1.12]\n"
     ]
    },
    {
     "name": "stdout",
     "output_type": "stream",
     "text": [
      "Epoch 10 train loss : 1.1232572093736009\n"
     ]
    },
    {
     "name": "stderr",
     "output_type": "stream",
     "text": [
      "Epoch 10/30 - Validation: 100%|██████████| 191/191 [00:04<00:00, 43.68it/s, valid_loss=1.17]\n"
     ]
    },
    {
     "name": "stdout",
     "output_type": "stream",
     "text": [
      "Epoch 10 valid loss : 1.1719199591641198\n"
     ]
    },
    {
     "name": "stderr",
     "output_type": "stream",
     "text": [
      "Epoch 11/30 - Training: 100%|██████████| 889/889 [00:28<00:00, 30.87it/s, train_loss=1.11]\n"
     ]
    },
    {
     "name": "stdout",
     "output_type": "stream",
     "text": [
      "Epoch 11 train loss : 1.1074617525036825\n"
     ]
    },
    {
     "name": "stderr",
     "output_type": "stream",
     "text": [
      "Epoch 11/30 - Validation: 100%|██████████| 191/191 [00:04<00:00, 43.24it/s, valid_loss=1.17]\n"
     ]
    },
    {
     "name": "stdout",
     "output_type": "stream",
     "text": [
      "Epoch 11 valid loss : 1.1722541970976506\n"
     ]
    },
    {
     "name": "stderr",
     "output_type": "stream",
     "text": [
      "Epoch 12/30 - Training: 100%|██████████| 889/889 [00:28<00:00, 30.66it/s, train_loss=1.09]\n"
     ]
    },
    {
     "name": "stdout",
     "output_type": "stream",
     "text": [
      "Epoch 12 train loss : 1.0923348563240174\n"
     ]
    },
    {
     "name": "stderr",
     "output_type": "stream",
     "text": [
      "Epoch 12/30 - Validation: 100%|██████████| 191/191 [00:04<00:00, 42.67it/s, valid_loss=1.17]\n"
     ]
    },
    {
     "name": "stdout",
     "output_type": "stream",
     "text": [
      "Epoch 12 valid loss : 1.166477637618971\n",
      "Found better model. Best loss: 1.166477637618971\n",
      "Saving best model to /home/rasta/fair compression/fair-neural-compression-eval/models/converged_models/separate_models/hair_color/best.pth\n"
     ]
    },
    {
     "name": "stderr",
     "output_type": "stream",
     "text": [
      "Epoch 13/30 - Training: 100%|██████████| 889/889 [00:28<00:00, 30.96it/s, train_loss=1.08]\n"
     ]
    },
    {
     "name": "stdout",
     "output_type": "stream",
     "text": [
      "Epoch 13 train loss : 1.0799786741553044\n"
     ]
    },
    {
     "name": "stderr",
     "output_type": "stream",
     "text": [
      "Epoch 13/30 - Validation: 100%|██████████| 191/191 [00:04<00:00, 43.50it/s, valid_loss=1.17]\n"
     ]
    },
    {
     "name": "stdout",
     "output_type": "stream",
     "text": [
      "Epoch 13 valid loss : 1.1711824516654308\n"
     ]
    },
    {
     "name": "stderr",
     "output_type": "stream",
     "text": [
      "Epoch 14/30 - Training: 100%|██████████| 889/889 [00:28<00:00, 30.94it/s, train_loss=1.07]\n"
     ]
    },
    {
     "name": "stdout",
     "output_type": "stream",
     "text": [
      "Epoch 14 train loss : 1.0663120314130774\n"
     ]
    },
    {
     "name": "stderr",
     "output_type": "stream",
     "text": [
      "Epoch 14/30 - Validation: 100%|██████████| 191/191 [00:04<00:00, 43.38it/s, valid_loss=1.17]\n"
     ]
    },
    {
     "name": "stdout",
     "output_type": "stream",
     "text": [
      "Epoch 14 valid loss : 1.1725885344733746\n"
     ]
    },
    {
     "name": "stderr",
     "output_type": "stream",
     "text": [
      "Epoch 15/30 - Training: 100%|██████████| 889/889 [00:29<00:00, 29.75it/s, train_loss=1.06]\n"
     ]
    },
    {
     "name": "stdout",
     "output_type": "stream",
     "text": [
      "Epoch 15 train loss : 1.056715942086752\n"
     ]
    },
    {
     "name": "stderr",
     "output_type": "stream",
     "text": [
      "Epoch 15/30 - Validation: 100%|██████████| 191/191 [00:04<00:00, 43.00it/s, valid_loss=1.18]\n"
     ]
    },
    {
     "name": "stdout",
     "output_type": "stream",
     "text": [
      "Epoch 15 valid loss : 1.1764465791802163\n"
     ]
    },
    {
     "name": "stderr",
     "output_type": "stream",
     "text": [
      "Epoch 16/30 - Training: 100%|██████████| 889/889 [00:28<00:00, 31.24it/s, train_loss=1.05]\n"
     ]
    },
    {
     "name": "stdout",
     "output_type": "stream",
     "text": [
      "Epoch 16 train loss : 1.0462577728831932\n"
     ]
    },
    {
     "name": "stderr",
     "output_type": "stream",
     "text": [
      "Epoch 16/30 - Validation: 100%|██████████| 191/191 [00:04<00:00, 42.96it/s, valid_loss=1.17]\n"
     ]
    },
    {
     "name": "stdout",
     "output_type": "stream",
     "text": [
      "Epoch 16 valid loss : 1.1735961971524078\n"
     ]
    },
    {
     "name": "stderr",
     "output_type": "stream",
     "text": [
      "Epoch 17/30 - Training: 100%|██████████| 889/889 [00:28<00:00, 31.01it/s, train_loss=1.04]\n"
     ]
    },
    {
     "name": "stdout",
     "output_type": "stream",
     "text": [
      "Epoch 17 train loss : 1.0372403366881762\n"
     ]
    },
    {
     "name": "stderr",
     "output_type": "stream",
     "text": [
      "Epoch 17/30 - Validation: 100%|██████████| 191/191 [00:04<00:00, 43.08it/s, valid_loss=1.17]"
     ]
    },
    {
     "name": "stdout",
     "output_type": "stream",
     "text": [
      "Epoch 17 valid loss : 1.174178867323648\n",
      "Early stopping at epoch 17\n"
     ]
    },
    {
     "name": "stderr",
     "output_type": "stream",
     "text": [
      "\n"
     ]
    }
   ],
   "source": [
    "trained_model, train_losses, valid_losses = train_numerical_rfw(\n",
    "    model, \n",
    "    torch.optim.SGD,\n",
    "    EPOCHS, \n",
    "    LEARNING_RATE, \n",
    "    train_loader, \n",
    "    val_loader,\n",
    "    device,\n",
    "    '/home/rasta/fair compression/fair-neural-compression-eval/models/converged_models/separate_models/hair_color',\n",
    "    patience=5\n",
    ")"
   ]
  },
  {
   "cell_type": "code",
   "execution_count": 47,
   "metadata": {},
   "outputs": [
    {
     "data": {
      "image/png": "[encoded data removed]",
      "text/plain": [
       "<Figure size 640x480 with 1 Axes>"
      ]
     },
     "metadata": {},
     "output_type": "display_data"
    }
   ],
   "source": [
    "import matplotlib.pyplot as plt\n",
    "\n",
    "# Sample lists of train and validation losses\n",
    "# train_losses = [0.5, 0.4, 0.3, 0.2, 0.1]\n",
    "# val_losses = [0.6, 0.5, 0.4, 0.3, 0.2]\n",
    "\n",
    "# Plotting\n",
    "epochs = range(1, len(train_losses) + 1)\n",
    "plt.plot(epochs, train_losses, 'b', label='Train Loss')\n",
    "plt.plot(epochs, valid_losses, 'r', label='Validation Loss')\n",
    "plt.title('Training and Validation Loss')\n",
    "plt.xlabel('Epochs')\n",
    "plt.ylabel('Loss')\n",
    "\n",
    "best_epoch = valid_losses.index(min(valid_losses)) + 1\n",
    "\n",
    "# Add a vertical line at the epoch with the lowest validation loss\n",
    "plt.axvline(x=best_epoch, color='g', linestyle='--', label='Best Model')\n",
    "\n",
    "plt.legend()\n",
    "plt.show()"
   ]
  },
  {
   "cell_type": "code",
   "execution_count": 48,
   "metadata": {},
   "outputs": [
    {
     "name": "stdout",
     "output_type": "stream",
     "text": [
      "prediction_save_dir: /media/global_data/fair_neural_compression_data/predictions/clean\n"
     ]
    },
    {
     "name": "stderr",
     "output_type": "stream",
     "text": [
      "Getting Predictions: 100%|██████████| 191/191 [00:04<00:00, 40.73batch/s]\n"
     ]
    }
   ],
   "source": [
    "preds, labels = save_race_based_predictions(\n",
    "    model,  \n",
    "    test_loader, \n",
    "    device, \n",
    "    '/media/global_data/fair_neural_compression_data/predictions/clean'\n",
    ")"
   ]
  },
  {
   "cell_type": "code",
   "execution_count": 34,
   "metadata": {},
   "outputs": [
    {
     "data": {
      "text/plain": [
       "dict_keys(['Indian', 'Caucasian', 'Asian', 'African'])"
      ]
     },
     "execution_count": 34,
     "metadata": {},
     "output_type": "execute_result"
    }
   ],
   "source": [
    "labels.keys()"
   ]
  },
  {
   "cell_type": "code",
   "execution_count": 49,
   "metadata": {},
   "outputs": [
    {
     "name": "stdout",
     "output_type": "stream",
     "text": [
      "RACE: Indian\n",
      "              precision    recall  f1-score   support\n",
      "\n",
      "         0.0       0.77      0.82      0.79      1059\n",
      "         1.0       0.72      0.60      0.65       275\n",
      "         2.0       0.34      0.30      0.32       266\n",
      "         3.0       0.00      0.00      0.00         4\n",
      "         4.0       0.00      0.00      0.00         8\n",
      "\n",
      "    accuracy                           0.69      1612\n",
      "   macro avg       0.36      0.35      0.35      1612\n",
      "weighted avg       0.68      0.69      0.69      1612\n",
      "\n",
      "######################\n",
      "RACE: Caucasian\n",
      "              precision    recall  f1-score   support\n",
      "\n",
      "         0.0       0.41      0.39      0.40       315\n",
      "         1.0       0.57      0.60      0.59       219\n",
      "         2.0       0.55      0.63      0.59       593\n",
      "         3.0       0.67      0.56      0.61       302\n",
      "         4.0       0.00      0.00      0.00        38\n",
      "\n",
      "    accuracy                           0.54      1467\n",
      "   macro avg       0.44      0.44      0.44      1467\n",
      "weighted avg       0.53      0.54      0.54      1467\n",
      "\n",
      "######################\n",
      "RACE: Asian\n",
      "              precision    recall  f1-score   support\n",
      "\n",
      "         0.0       0.83      0.81      0.82      1012\n",
      "         1.0       0.54      0.60      0.57        86\n",
      "         2.0       0.45      0.52      0.48       273\n",
      "         3.0       0.44      0.24      0.31        34\n",
      "         4.0       0.00      0.00      0.00        14\n",
      "\n",
      "    accuracy                           0.72      1419\n",
      "   macro avg       0.45      0.43      0.44      1419\n",
      "weighted avg       0.72      0.72      0.72      1419\n",
      "\n",
      "######################\n",
      "RACE: African\n",
      "              precision    recall  f1-score   support\n",
      "\n",
      "         0.0       0.96      0.99      0.97      1517\n",
      "         1.0       0.53      0.26      0.34        39\n",
      "         2.0       0.17      0.07      0.10        27\n",
      "         3.0       0.00      0.00      0.00         9\n",
      "         4.0       0.00      0.00      0.00         2\n",
      "\n",
      "    accuracy                           0.95      1594\n",
      "   macro avg       0.33      0.26      0.28      1594\n",
      "weighted avg       0.93      0.95      0.94      1594\n",
      "\n",
      "######################\n"
     ]
    },
    {
     "name": "stderr",
     "output_type": "stream",
     "text": [
      "/home/rasta/.conda/envs/fnc_eval/lib/python3.9/site-packages/sklearn/metrics/_classification.py:1509: UndefinedMetricWarning: Precision is ill-defined and being set to 0.0 in labels with no predicted samples. Use `zero_division` parameter to control this behavior.\n",
      "  _warn_prf(average, modifier, f\"{metric.capitalize()} is\", len(result))\n",
      "/home/rasta/.conda/envs/fnc_eval/lib/python3.9/site-packages/sklearn/metrics/_classification.py:1509: UndefinedMetricWarning: Precision is ill-defined and being set to 0.0 in labels with no predicted samples. Use `zero_division` parameter to control this behavior.\n",
      "  _warn_prf(average, modifier, f\"{metric.capitalize()} is\", len(result))\n",
      "/home/rasta/.conda/envs/fnc_eval/lib/python3.9/site-packages/sklearn/metrics/_classification.py:1509: UndefinedMetricWarning: Precision is ill-defined and being set to 0.0 in labels with no predicted samples. Use `zero_division` parameter to control this behavior.\n",
      "  _warn_prf(average, modifier, f\"{metric.capitalize()} is\", len(result))\n",
      "/home/rasta/.conda/envs/fnc_eval/lib/python3.9/site-packages/sklearn/metrics/_classification.py:1509: UndefinedMetricWarning: Precision is ill-defined and being set to 0.0 in labels with no predicted samples. Use `zero_division` parameter to control this behavior.\n",
      "  _warn_prf(average, modifier, f\"{metric.capitalize()} is\", len(result))\n",
      "/home/rasta/.conda/envs/fnc_eval/lib/python3.9/site-packages/sklearn/metrics/_classification.py:1509: UndefinedMetricWarning: Precision is ill-defined and being set to 0.0 in labels with no predicted samples. Use `zero_division` parameter to control this behavior.\n",
      "  _warn_prf(average, modifier, f\"{metric.capitalize()} is\", len(result))\n",
      "/home/rasta/.conda/envs/fnc_eval/lib/python3.9/site-packages/sklearn/metrics/_classification.py:1509: UndefinedMetricWarning: Precision is ill-defined and being set to 0.0 in labels with no predicted samples. Use `zero_division` parameter to control this behavior.\n",
      "  _warn_prf(average, modifier, f\"{metric.capitalize()} is\", len(result))\n",
      "/home/rasta/.conda/envs/fnc_eval/lib/python3.9/site-packages/sklearn/metrics/_classification.py:1509: UndefinedMetricWarning: Precision is ill-defined and being set to 0.0 in labels with no predicted samples. Use `zero_division` parameter to control this behavior.\n",
      "  _warn_prf(average, modifier, f\"{metric.capitalize()} is\", len(result))\n",
      "/home/rasta/.conda/envs/fnc_eval/lib/python3.9/site-packages/sklearn/metrics/_classification.py:1509: UndefinedMetricWarning: Precision is ill-defined and being set to 0.0 in labels with no predicted samples. Use `zero_division` parameter to control this behavior.\n",
      "  _warn_prf(average, modifier, f\"{metric.capitalize()} is\", len(result))\n",
      "/home/rasta/.conda/envs/fnc_eval/lib/python3.9/site-packages/sklearn/metrics/_classification.py:1509: UndefinedMetricWarning: Precision is ill-defined and being set to 0.0 in labels with no predicted samples. Use `zero_division` parameter to control this behavior.\n",
      "  _warn_prf(average, modifier, f\"{metric.capitalize()} is\", len(result))\n",
      "/home/rasta/.conda/envs/fnc_eval/lib/python3.9/site-packages/sklearn/metrics/_classification.py:1509: UndefinedMetricWarning: Precision is ill-defined and being set to 0.0 in labels with no predicted samples. Use `zero_division` parameter to control this behavior.\n",
      "  _warn_prf(average, modifier, f\"{metric.capitalize()} is\", len(result))\n",
      "/home/rasta/.conda/envs/fnc_eval/lib/python3.9/site-packages/sklearn/metrics/_classification.py:1509: UndefinedMetricWarning: Precision is ill-defined and being set to 0.0 in labels with no predicted samples. Use `zero_division` parameter to control this behavior.\n",
      "  _warn_prf(average, modifier, f\"{metric.capitalize()} is\", len(result))\n",
      "/home/rasta/.conda/envs/fnc_eval/lib/python3.9/site-packages/sklearn/metrics/_classification.py:1509: UndefinedMetricWarning: Precision is ill-defined and being set to 0.0 in labels with no predicted samples. Use `zero_division` parameter to control this behavior.\n",
      "  _warn_prf(average, modifier, f\"{metric.capitalize()} is\", len(result))\n"
     ]
    }
   ],
   "source": [
    "for race in labels: \n",
    "    print(f'RACE: {race}')\n",
    "    print(classification_report(labels[race]['hair_color'], preds[race]['hair_color']))\n",
    "    print(f'######################')"
   ]
  },
  {
   "cell_type": "code",
   "execution_count": 17,
   "metadata": {},
   "outputs": [
    {
     "data": {
      "text/plain": [
       "{'Indian': {'hair_color': tensor([2., 4., 2.,  ..., 2., 2., 2.])},\n",
       " 'Caucasian': {'hair_color': tensor([4., 3., 4.,  ..., 4., 3., 4.])},\n",
       " 'Asian': {'hair_color': tensor([2., 2., 3.,  ..., 4., 2., 4.])},\n",
       " 'African': {'hair_color': tensor([1., 0., 1.,  ..., 0., 1., 1.])}}"
      ]
     },
     "execution_count": 17,
     "metadata": {},
     "output_type": "execute_result"
    }
   ],
   "source": [
    "labels"
   ]
  },
  {
   "cell_type": "code",
   "execution_count": 27,
   "metadata": {},
   "outputs": [
    {
     "data": {
      "text/plain": [
       "tensor([0., 1., 2., 3.])"
      ]
     },
     "execution_count": 27,
     "metadata": {},
     "output_type": "execute_result"
    }
   ],
   "source": [
    "preds['Asian']['hair_color'].unique()"
   ]
  },
  {
   "cell_type": "code",
   "execution_count": 29,
   "metadata": {},
   "outputs": [
    {
     "data": {
      "text/plain": [
       "tensor([2., 3., 4., 5.])"
      ]
     },
     "execution_count": 29,
     "metadata": {},
     "output_type": "execute_result"
    }
   ],
   "source": [
    "labels['Caucasian']['hair_color'].unique()"
   ]
  },
  {
   "cell_type": "code",
   "execution_count": 30,
   "metadata": {},
   "outputs": [
    {
     "name": "stdout",
     "output_type": "stream",
     "text": [
      "prediction_save_dir: /media/global_data/fair_neural_compression_data/predictions/clean\n"
     ]
    },
    {
     "name": "stderr",
     "output_type": "stream",
     "text": [
      "Getting Predictions: 100%|██████████| 191/191 [00:04<00:00, 38.30batch/s]\n"
     ]
    }
   ],
   "source": [
    "prediction_save_dir = '/media/global_data/fair_neural_compression_data/predictions/clean'\n",
    "all_predictions = {'Indian': {head: torch.tensor([]) for head in model.heads.keys()}, \n",
    "                    'Caucasian': {head: torch.tensor([]) for head in model.heads.keys()}, \n",
    "                    'Asian': {head: torch.tensor([]) for head in model.heads.keys()},  \n",
    "                    'African': {head: torch.tensor([]) for head in model.heads.keys()}}\n",
    "all_labels = {'Indian': {head: torch.tensor([]) for head in model.heads.keys()}, \n",
    "                'Caucasian': {head: torch.tensor([]) for head in model.heads.keys()}, \n",
    "                'Asian': {head: torch.tensor([]) for head in model.heads.keys()}, \n",
    "                'African': {head: torch.tensor([]) for head in model.heads.keys()}}\n",
    "\n",
    "print(f'prediction_save_dir: {prediction_save_dir}')\n",
    "dataloader = tqdm(test_loader, desc=\"Getting Predictions\", unit=\"batch\")\n",
    "model.eval()\n",
    "with torch.no_grad():\n",
    "    for _, data in enumerate(dataloader):\n",
    "        inputs, labels, race = data\n",
    "        race = np.array(race)\n",
    "\n",
    "        inputs = inputs.to(torch.float).to(device)\n",
    "        labels = labels.to(device)\n",
    "        outputs = model(inputs)\n",
    "\n",
    "        for i, (head, predictions) in enumerate(outputs.items()):\n",
    "            head_preds = predictions.argmax(dim=1).cpu()\n",
    "\n",
    "            for race_label in all_labels:\n",
    "                race_indices = np.array((race == race_label).nonzero()[0])\n",
    "                race_predictions = head_preds[race_indices]\n",
    "                race_labels = labels[:, ATTRIBUTE_INDECIES[head]][race_indices]\n",
    "            \n",
    "                all_predictions[race_label][head] = torch.cat((all_predictions[race_label][head], race_predictions.to('cpu')), dim=0)\n",
    "                all_labels[race_label][head] = torch.cat((all_labels[race_label][head], race_labels.to('cpu')), dim=0)\n",
    "\n",
    "    # with open(prediction_save_dir + '/predictions.pkl', 'wb+') as f:\n",
    "    #     pickle.dump(all_predictions, f)\n",
    "    #with open(prediction_save_dir + '/labels.pkl', 'wb+') as f:\n",
    "    #    pickle.dump(all_labels, f)\n",
    "\n",
    "\n",
    "    # return all_predictions, all_labels"
   ]
  },
  {
   "cell_type": "code",
   "execution_count": 33,
   "metadata": {},
   "outputs": [
    {
     "data": {
      "text/plain": [
       "tensor([0., 1., 2., 3.])"
      ]
     },
     "execution_count": 33,
     "metadata": {},
     "output_type": "execute_result"
    }
   ],
   "source": [
    "all_predictions['Asian']['hair_color'].unique()"
   ]
  },
  {
   "cell_type": "code",
   "execution_count": 32,
   "metadata": {},
   "outputs": [
    {
     "data": {
      "text/plain": [
       "tensor([0., 1., 2., 3., 4.])"
      ]
     },
     "execution_count": 32,
     "metadata": {},
     "output_type": "execute_result"
    }
   ],
   "source": [
    "all_labels['Caucasian']['hair_color'].unique()"
   ]
  },
  {
   "cell_type": "code",
   "execution_count": 34,
   "metadata": {},
   "outputs": [
    {
     "data": {
      "text/plain": [
       "5"
      ]
     },
     "execution_count": 34,
     "metadata": {},
     "output_type": "execute_result"
    }
   ],
   "source": [
    "ATTRIBUTE_INDECIES[head]"
   ]
  },
  {
   "cell_type": "code",
   "execution_count": null,
   "metadata": {},
   "outputs": [],
   "source": []
  }
 ],
 "metadata": {
  "kernelspec": {
   "display_name": "fnc_eval",
   "language": "python",
   "name": "fnc_eval"
  },
  "language_info": {
   "codemirror_mode": {
    "name": "ipython",
    "version": 3
   },
   "file_extension": ".py",
   "mimetype": "text/x-python",
   "name": "python",
   "nbconvert_exporter": "python",
   "pygments_lexer": "ipython3",
   "version": "3.9.19"
  }
 },
 "nbformat": 4,
 "nbformat_minor": 2
}
