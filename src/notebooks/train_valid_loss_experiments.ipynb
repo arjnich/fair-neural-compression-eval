{
 "cells": [
  {
   "cell_type": "code",
   "execution_count": 1,
   "metadata": {},
   "outputs": [
    {
     "ename": "ImportError",
     "evalue": "cannot import name 'save_model' from 'train' (/home/rasta/fair compression/fair-neural-compression-eval/src/notebooks/../train.py)",
     "output_type": "error",
     "traceback": [
      "\u001b[0;31m---------------------------------------------------------------------------\u001b[0m",
      "\u001b[0;31mImportError\u001b[0m                               Traceback (most recent call last)",
      "Cell \u001b[0;32mIn[1], line 6\u001b[0m\n\u001b[1;32m      4\u001b[0m \u001b[38;5;28;01mfrom\u001b[39;00m \u001b[38;5;21;01mpredict\u001b[39;00m \u001b[38;5;28;01mimport\u001b[39;00m perform_inference\n\u001b[1;32m      5\u001b[0m \u001b[38;5;28;01mfrom\u001b[39;00m \u001b[38;5;21;01mrfw_loader\u001b[39;00m \u001b[38;5;28;01mimport\u001b[39;00m create_dataloaders\n\u001b[0;32m----> 6\u001b[0m \u001b[38;5;28;01mfrom\u001b[39;00m \u001b[38;5;21;01mtrain\u001b[39;00m \u001b[38;5;28;01mimport\u001b[39;00m train, save_model\n\u001b[1;32m      8\u001b[0m \u001b[38;5;28;01mimport\u001b[39;00m \u001b[38;5;21;01mtorch\u001b[39;00m\n\u001b[1;32m      9\u001b[0m torch\u001b[38;5;241m.\u001b[39mmanual_seed(\u001b[38;5;241m42\u001b[39m)\n",
      "\u001b[0;31mImportError\u001b[0m: cannot import name 'save_model' from 'train' (/home/rasta/fair compression/fair-neural-compression-eval/src/notebooks/../train.py)"
     ]
    }
   ],
   "source": [
    "import sys\n",
    "sys.path.append(\"..\")\n",
    "\n",
    "from predict import perform_inference\n",
    "from rfw_loader import create_dataloaders\n",
    "from train import train, save_model\n",
    "\n",
    "import torch\n",
    "torch.manual_seed(42)\n"
   ]
  },
  {
   "cell_type": "code",
   "execution_count": 2,
   "metadata": {},
   "outputs": [],
   "source": [
    "EPOCHS = 5\n",
    "LEARNING_RATE = 0.01\n",
    "\n",
    "BATCH_SIZE = 32\n",
    "DEVICE = 2"
   ]
  },
  {
   "cell_type": "code",
   "execution_count": 3,
   "metadata": {},
   "outputs": [
    {
     "data": {
      "text/plain": [
       "device(type='cuda', index=2)"
      ]
     },
     "execution_count": 3,
     "metadata": {},
     "output_type": "execute_result"
    }
   ],
   "source": [
    "device = torch.device(f'cuda:{DEVICE}' if torch.cuda.is_available() else 'cpu')\n",
    "device"
   ]
  },
  {
   "cell_type": "markdown",
   "metadata": {},
   "source": [
    "# Get Train and Validation Loss Curves"
   ]
  },
  {
   "cell_type": "code",
   "execution_count": 4,
   "metadata": {},
   "outputs": [],
   "source": [
    "import torch\n",
    "import torchvision.models as models\n",
    "import torch.nn as nn\n",
    "from tqdm import tqdm\n",
    "import torch.nn.functional as F\n",
    "\n",
    "\n",
    "class MultiHeadResNet(nn.Module):\n",
    "    def __init__(self, output_dims):\n",
    "        super(MultiHeadResNet, self).__init__()\n",
    "        self.resnet = models.resnet18(pretrained=True)\n",
    "        num_features = self.resnet.fc.in_features\n",
    "        self.resnet = torch.nn.Sequential(*(list(self.resnet.children())[:-1]))\n",
    "        self.heads = nn.ModuleDict()\n",
    "        for head, num_classes in output_dims.items():\n",
    "            self.heads[head] = nn.Linear(num_features, num_classes)\n",
    "\n",
    "    def forward(self, x):\n",
    "        features = self.resnet(x).squeeze()\n",
    "        outputs = {}\n",
    "        for head, head_module in self.heads.items():\n",
    "            output_logits = head_module(features)\n",
    "            outputs[head] = F.softmax(output_logits, dim=1)\n",
    "        return outputs"
   ]
  },
  {
   "cell_type": "code",
   "execution_count": 5,
   "metadata": {},
   "outputs": [],
   "source": [
    "import torch\n",
    "import torch.nn as nn\n",
    "from tqdm import tqdm\n",
    "import numpy as np\n",
    "import random\n",
    "\n",
    "torch.manual_seed(42)\n",
    "np.random.seed(42)\n",
    "random.seed(42)\n",
    "\n",
    "RACE_LABELS = ['Indian', 'Asian', 'African', 'Caucasian']\n",
    "\n",
    "def train_numerical_rfw(\n",
    "        model, \n",
    "        optimizer,\n",
    "        num_epochs, \n",
    "        lr, \n",
    "        train_loader, \n",
    "        valid_loader,\n",
    "        device,\n",
    "        save_dir,\n",
    "        model_name,\n",
    "        patience=5  # Number of epochs to wait for improvement in validation loss before stopping\n",
    "    ):\n",
    "    criterion = nn.CrossEntropyLoss()\n",
    "    # optimizer = torch.optim.SGD(model.parameters(), lr=lr)\n",
    "    optimizer = optimizer(model.parameters(), lr=lr)\n",
    "    \n",
    "    train_losses = []\n",
    "    valid_losses = []\n",
    "    \n",
    "    best_valid_loss = float('inf')\n",
    "    no_improvement_count = 0\n",
    "    \n",
    "    for epoch in range(num_epochs):\n",
    "        model.train()\n",
    "        running_train_loss = 0.0\n",
    "        with tqdm(total=len(train_loader), desc=f\"Epoch {epoch+1}/{num_epochs} - Training\") as pbar:\n",
    "            for inputs, targets, races in train_loader:\n",
    "                inputs, targets = inputs.to(device).float(), targets.to(device)\n",
    "                optimizer.zero_grad()\n",
    "                outputs = model(inputs)\n",
    "                loss = 0\n",
    "                for i, head in enumerate(outputs):\n",
    "                    loss += criterion(outputs[head], targets[:, i].to(torch.int64))\n",
    "                loss.backward()\n",
    "                optimizer.step()\n",
    "                running_train_loss += loss.item() * inputs.size(0)\n",
    "                pbar.update(1)\n",
    "            avg_train_loss = running_train_loss / len(train_loader.dataset)\n",
    "            pbar.set_postfix(train_loss=avg_train_loss)\n",
    "        \n",
    "        print(f'Epoch {epoch + 1} train loss : {avg_train_loss}')\n",
    "        train_losses.append(avg_train_loss)\n",
    "        \n",
    "        # Validation phase\n",
    "        model.eval()\n",
    "        running_valid_loss = 0.0\n",
    "        with torch.no_grad():\n",
    "            with tqdm(total=len(valid_loader), desc=f\"Epoch {epoch+1}/{num_epochs} - Validation\") as pbar:\n",
    "                for inputs, targets, races in valid_loader:\n",
    "                    inputs, targets = inputs.to(device).float(), targets.to(device)\n",
    "                    outputs = model(inputs)\n",
    "                    loss = 0\n",
    "                    for i, head in enumerate(outputs):\n",
    "                        loss += criterion(outputs[head], targets[:, i].to(torch.int64))\n",
    "                    running_valid_loss += loss.item() * inputs.size(0)\n",
    "                    pbar.update(1)\n",
    "                avg_valid_loss = running_valid_loss / len(valid_loader.dataset)  # Compute average validation loss\n",
    "                pbar.set_postfix(valid_loss=avg_valid_loss)\n",
    "        print(f'Epoch {epoch + 1} valid loss : {avg_valid_loss}')\n",
    "        valid_losses.append(avg_valid_loss)\n",
    "        \n",
    "        # Check for early stopping\n",
    "        if avg_valid_loss < best_valid_loss:\n",
    "            print(f'Found better model. Best loss: {avg_valid_loss}')\n",
    "            best_valid_loss = avg_valid_loss\n",
    "            no_improvement_count = 0\n",
    "            print(f'Saving best model to {save_dir}/best_{model_name}.pth')\n",
    "            torch.save(model, f'{save_dir}/best_{model_name}.pth')\n",
    "        else:\n",
    "            no_improvement_count += 1\n",
    "            if no_improvement_count >= patience:\n",
    "                print(f\"Early stopping at epoch {epoch+1}\")\n",
    "                break\n",
    "    \n",
    "    return model, train_losses, valid_losses"
   ]
  },
  {
   "cell_type": "code",
   "execution_count": 6,
   "metadata": {},
   "outputs": [
    {
     "name": "stderr",
     "output_type": "stream",
     "text": [
      "/home/rasta/.conda/envs/fnc_eval/lib/python3.9/site-packages/torchvision/transforms/v2/_deprecated.py:42: UserWarning: The transform `ToTensor()` is deprecated and will be removed in a future release. Instead, please use `v2.Compose([v2.ToImage(), v2.ToDtype(torch.float32, scale=True)])`.Output is equivalent up to float precision.\n",
      "  warnings.warn(\n",
      "/home/rasta/.conda/envs/fnc_eval/lib/python3.9/site-packages/torchvision/models/_utils.py:208: UserWarning: The parameter 'pretrained' is deprecated since 0.13 and may be removed in the future, please use 'weights' instead.\n",
      "  warnings.warn(\n",
      "/home/rasta/.conda/envs/fnc_eval/lib/python3.9/site-packages/torchvision/models/_utils.py:223: UserWarning: Arguments other than a weight enum or `None` for 'weights' are deprecated since 0.13 and may be removed in the future. The current behavior is equivalent to passing `weights=ResNet18_Weights.IMAGENET1K_V1`. You can also use `weights=ResNet18_Weights.DEFAULT` to get the most up-to-date weights.\n",
      "  warnings.warn(msg)\n",
      "Epoch 1/30 - Training: 100%|██████████| 889/889 [00:31<00:00, 28.59it/s, train_loss=5.93]\n"
     ]
    },
    {
     "name": "stdout",
     "output_type": "stream",
     "text": [
      "Epoch 1 train loss : 5.929486701228805\n"
     ]
    },
    {
     "name": "stderr",
     "output_type": "stream",
     "text": [
      "Epoch 1/30 - Validation: 100%|██████████| 191/191 [00:05<00:00, 36.62it/s, valid_loss=5.91]\n"
     ]
    },
    {
     "name": "stdout",
     "output_type": "stream",
     "text": [
      "Epoch 1 valid loss : 5.905997045755269\n",
      "Found better model. Best loss: 5.905997045755269\n",
      "Saving best model to ../../models/converged_models/best_RFW_resnet18_lambda=64_data_rate=1.pth\n"
     ]
    },
    {
     "name": "stderr",
     "output_type": "stream",
     "text": [
      "Epoch 2/30 - Training: 100%|██████████| 889/889 [00:29<00:00, 29.73it/s, train_loss=5.87]\n"
     ]
    },
    {
     "name": "stdout",
     "output_type": "stream",
     "text": [
      "Epoch 2 train loss : 5.871589835784551\n"
     ]
    },
    {
     "name": "stderr",
     "output_type": "stream",
     "text": [
      "Epoch 2/30 - Validation: 100%|██████████| 191/191 [00:04<00:00, 43.06it/s, valid_loss=5.88]\n"
     ]
    },
    {
     "name": "stdout",
     "output_type": "stream",
     "text": [
      "Epoch 2 valid loss : 5.875475353177712\n",
      "Found better model. Best loss: 5.875475353177712\n",
      "Saving best model to ../../models/converged_models/best_RFW_resnet18_lambda=64_data_rate=1.pth\n"
     ]
    },
    {
     "name": "stderr",
     "output_type": "stream",
     "text": [
      "Epoch 3/30 - Training: 100%|██████████| 889/889 [00:29<00:00, 30.35it/s, train_loss=5.85]\n"
     ]
    },
    {
     "name": "stdout",
     "output_type": "stream",
     "text": [
      "Epoch 3 train loss : 5.851686909270562\n"
     ]
    },
    {
     "name": "stderr",
     "output_type": "stream",
     "text": [
      "Epoch 3/30 - Validation: 100%|██████████| 191/191 [00:04<00:00, 43.49it/s, valid_loss=5.86]\n"
     ]
    },
    {
     "name": "stdout",
     "output_type": "stream",
     "text": [
      "Epoch 3 valid loss : 5.8632550802435945\n",
      "Found better model. Best loss: 5.8632550802435945\n",
      "Saving best model to ../../models/converged_models/best_RFW_resnet18_lambda=64_data_rate=1.pth\n"
     ]
    },
    {
     "name": "stderr",
     "output_type": "stream",
     "text": [
      "Epoch 4/30 - Training: 100%|██████████| 889/889 [00:29<00:00, 30.40it/s, train_loss=5.84]\n"
     ]
    },
    {
     "name": "stdout",
     "output_type": "stream",
     "text": [
      "Epoch 4 train loss : 5.837090683224971\n"
     ]
    },
    {
     "name": "stderr",
     "output_type": "stream",
     "text": [
      "Epoch 4/30 - Validation: 100%|██████████| 191/191 [00:04<00:00, 43.70it/s, valid_loss=5.88]\n"
     ]
    },
    {
     "name": "stdout",
     "output_type": "stream",
     "text": [
      "Epoch 4 valid loss : 5.884242773016887\n"
     ]
    },
    {
     "name": "stderr",
     "output_type": "stream",
     "text": [
      "Epoch 5/30 - Training: 100%|██████████| 889/889 [00:28<00:00, 31.28it/s, train_loss=5.82]\n"
     ]
    },
    {
     "name": "stdout",
     "output_type": "stream",
     "text": [
      "Epoch 5 train loss : 5.8201916712356425\n"
     ]
    },
    {
     "name": "stderr",
     "output_type": "stream",
     "text": [
      "Epoch 5/30 - Validation: 100%|██████████| 191/191 [00:04<00:00, 43.51it/s, valid_loss=5.88]\n"
     ]
    },
    {
     "name": "stdout",
     "output_type": "stream",
     "text": [
      "Epoch 5 valid loss : 5.876429348151646\n"
     ]
    },
    {
     "name": "stderr",
     "output_type": "stream",
     "text": [
      "Epoch 6/30 - Training: 100%|██████████| 889/889 [00:28<00:00, 31.25it/s, train_loss=5.81]\n"
     ]
    },
    {
     "name": "stdout",
     "output_type": "stream",
     "text": [
      "Epoch 6 train loss : 5.808100413980868\n"
     ]
    },
    {
     "name": "stderr",
     "output_type": "stream",
     "text": [
      "Epoch 6/30 - Validation: 100%|██████████| 191/191 [00:04<00:00, 43.54it/s, valid_loss=5.87]\n"
     ]
    },
    {
     "name": "stdout",
     "output_type": "stream",
     "text": [
      "Epoch 6 valid loss : 5.870938292005304\n"
     ]
    },
    {
     "name": "stderr",
     "output_type": "stream",
     "text": [
      "Epoch 7/30 - Training: 100%|██████████| 889/889 [00:28<00:00, 31.14it/s, train_loss=5.79]\n"
     ]
    },
    {
     "name": "stdout",
     "output_type": "stream",
     "text": [
      "Epoch 7 train loss : 5.791415677015593\n"
     ]
    },
    {
     "name": "stderr",
     "output_type": "stream",
     "text": [
      "Epoch 7/30 - Validation: 100%|██████████| 191/191 [00:04<00:00, 39.22it/s, valid_loss=5.9]\n"
     ]
    },
    {
     "name": "stdout",
     "output_type": "stream",
     "text": [
      "Epoch 7 valid loss : 5.904794296555244\n"
     ]
    },
    {
     "name": "stderr",
     "output_type": "stream",
     "text": [
      "Epoch 8/30 - Training: 100%|██████████| 889/889 [00:29<00:00, 30.48it/s, train_loss=5.77]\n"
     ]
    },
    {
     "name": "stdout",
     "output_type": "stream",
     "text": [
      "Epoch 8 train loss : 5.769278210651495\n"
     ]
    },
    {
     "name": "stderr",
     "output_type": "stream",
     "text": [
      "Epoch 8/30 - Validation: 100%|██████████| 191/191 [00:04<00:00, 40.74it/s, valid_loss=5.88]\n"
     ]
    },
    {
     "name": "stdout",
     "output_type": "stream",
     "text": [
      "Epoch 8 valid loss : 5.877517722193546\n"
     ]
    },
    {
     "name": "stderr",
     "output_type": "stream",
     "text": [
      "Epoch 9/30 - Training: 100%|██████████| 889/889 [00:28<00:00, 30.87it/s, train_loss=5.75]\n"
     ]
    },
    {
     "name": "stdout",
     "output_type": "stream",
     "text": [
      "Epoch 9 train loss : 5.753158565578144\n"
     ]
    },
    {
     "name": "stderr",
     "output_type": "stream",
     "text": [
      "Epoch 9/30 - Validation: 100%|██████████| 191/191 [00:04<00:00, 43.38it/s, valid_loss=5.94]\n"
     ]
    },
    {
     "name": "stdout",
     "output_type": "stream",
     "text": [
      "Epoch 9 valid loss : 5.943963387078633\n"
     ]
    },
    {
     "name": "stderr",
     "output_type": "stream",
     "text": [
      "Epoch 10/30 - Training: 100%|██████████| 889/889 [00:29<00:00, 30.37it/s, train_loss=5.73]\n"
     ]
    },
    {
     "name": "stdout",
     "output_type": "stream",
     "text": [
      "Epoch 10 train loss : 5.733828438727445\n"
     ]
    },
    {
     "name": "stderr",
     "output_type": "stream",
     "text": [
      "Epoch 10/30 - Validation: 100%|██████████| 191/191 [00:04<00:00, 45.10it/s, valid_loss=5.91]\n"
     ]
    },
    {
     "name": "stdout",
     "output_type": "stream",
     "text": [
      "Epoch 10 valid loss : 5.9112121782911915\n"
     ]
    },
    {
     "name": "stderr",
     "output_type": "stream",
     "text": [
      "Epoch 11/30 - Training: 100%|██████████| 889/889 [00:28<00:00, 30.99it/s, train_loss=5.71]\n"
     ]
    },
    {
     "name": "stdout",
     "output_type": "stream",
     "text": [
      "Epoch 11 train loss : 5.708923483579353\n"
     ]
    },
    {
     "name": "stderr",
     "output_type": "stream",
     "text": [
      "Epoch 11/30 - Validation: 100%|██████████| 191/191 [00:04<00:00, 41.23it/s, valid_loss=5.91]\n"
     ]
    },
    {
     "name": "stdout",
     "output_type": "stream",
     "text": [
      "Epoch 11 valid loss : 5.9149675552450836\n"
     ]
    },
    {
     "name": "stderr",
     "output_type": "stream",
     "text": [
      "Epoch 12/30 - Training: 100%|██████████| 889/889 [00:29<00:00, 30.56it/s, train_loss=5.69]\n"
     ]
    },
    {
     "name": "stdout",
     "output_type": "stream",
     "text": [
      "Epoch 12 train loss : 5.690739998037702\n"
     ]
    },
    {
     "name": "stderr",
     "output_type": "stream",
     "text": [
      "Epoch 12/30 - Validation: 100%|██████████| 191/191 [00:04<00:00, 43.47it/s, valid_loss=5.91]\n"
     ]
    },
    {
     "name": "stdout",
     "output_type": "stream",
     "text": [
      "Epoch 12 valid loss : 5.909900670293477\n"
     ]
    },
    {
     "name": "stderr",
     "output_type": "stream",
     "text": [
      "Epoch 13/30 - Training: 100%|██████████| 889/889 [00:29<00:00, 30.53it/s, train_loss=5.66]\n"
     ]
    },
    {
     "name": "stdout",
     "output_type": "stream",
     "text": [
      "Epoch 13 train loss : 5.6616263649948815\n"
     ]
    },
    {
     "name": "stderr",
     "output_type": "stream",
     "text": [
      "Epoch 13/30 - Validation: 100%|██████████| 191/191 [00:04<00:00, 42.62it/s, valid_loss=6.03]\n"
     ]
    },
    {
     "name": "stdout",
     "output_type": "stream",
     "text": [
      "Epoch 13 valid loss : 6.0339462496028355\n",
      "Early stopping at epoch 13\n"
     ]
    },
    {
     "data": {
      "image/png": "[encoded data removed]",
      "text/plain": [
       "<Figure size 640x480 with 1 Axes>"
      ]
     },
     "metadata": {},
     "output_type": "display_data"
    },
    {
     "name": "stderr",
     "output_type": "stream",
     "text": [
      "/home/rasta/.conda/envs/fnc_eval/lib/python3.9/site-packages/torchvision/transforms/v2/_deprecated.py:42: UserWarning: The transform `ToTensor()` is deprecated and will be removed in a future release. Instead, please use `v2.Compose([v2.ToImage(), v2.ToDtype(torch.float32, scale=True)])`.Output is equivalent up to float precision.\n",
      "  warnings.warn(\n",
      "/home/rasta/.conda/envs/fnc_eval/lib/python3.9/site-packages/torchvision/models/_utils.py:208: UserWarning: The parameter 'pretrained' is deprecated since 0.13 and may be removed in the future, please use 'weights' instead.\n",
      "  warnings.warn(\n",
      "/home/rasta/.conda/envs/fnc_eval/lib/python3.9/site-packages/torchvision/models/_utils.py:223: UserWarning: Arguments other than a weight enum or `None` for 'weights' are deprecated since 0.13 and may be removed in the future. The current behavior is equivalent to passing `weights=ResNet18_Weights.IMAGENET1K_V1`. You can also use `weights=ResNet18_Weights.DEFAULT` to get the most up-to-date weights.\n",
      "  warnings.warn(msg)\n",
      "Epoch 1/30 - Training: 100%|██████████| 889/889 [00:29<00:00, 30.13it/s, train_loss=5.92]\n"
     ]
    },
    {
     "name": "stdout",
     "output_type": "stream",
     "text": [
      "Epoch 1 train loss : 5.922943597305602\n"
     ]
    },
    {
     "name": "stderr",
     "output_type": "stream",
     "text": [
      "Epoch 1/30 - Validation: 100%|██████████| 191/191 [00:04<00:00, 42.85it/s, valid_loss=5.86]\n"
     ]
    },
    {
     "name": "stdout",
     "output_type": "stream",
     "text": [
      "Epoch 1 valid loss : 5.863687727099431\n",
      "Found better model. Best loss: 5.863687727099431\n",
      "Saving best model to ../../models/converged_models/best_RFW_resnet18_lambda=64_data_rate=3.pth\n"
     ]
    },
    {
     "name": "stderr",
     "output_type": "stream",
     "text": [
      "Epoch 2/30 - Training: 100%|██████████| 889/889 [00:28<00:00, 30.66it/s, train_loss=5.84]\n"
     ]
    },
    {
     "name": "stdout",
     "output_type": "stream",
     "text": [
      "Epoch 2 train loss : 5.842658582822121\n"
     ]
    },
    {
     "name": "stderr",
     "output_type": "stream",
     "text": [
      "Epoch 2/30 - Validation: 100%|██████████| 191/191 [00:04<00:00, 42.94it/s, valid_loss=5.85]\n"
     ]
    },
    {
     "name": "stdout",
     "output_type": "stream",
     "text": [
      "Epoch 2 valid loss : 5.852473858169608\n",
      "Found better model. Best loss: 5.852473858169608\n",
      "Saving best model to ../../models/converged_models/best_RFW_resnet18_lambda=64_data_rate=3.pth\n"
     ]
    },
    {
     "name": "stderr",
     "output_type": "stream",
     "text": [
      "Epoch 3/30 - Training: 100%|██████████| 889/889 [00:28<00:00, 30.76it/s, train_loss=5.82]\n"
     ]
    },
    {
     "name": "stdout",
     "output_type": "stream",
     "text": [
      "Epoch 3 train loss : 5.815538342757994\n"
     ]
    },
    {
     "name": "stderr",
     "output_type": "stream",
     "text": [
      "Epoch 3/30 - Validation: 100%|██████████| 191/191 [00:04<00:00, 43.33it/s, valid_loss=5.85]\n"
     ]
    },
    {
     "name": "stdout",
     "output_type": "stream",
     "text": [
      "Epoch 3 valid loss : 5.854020759089008\n"
     ]
    },
    {
     "name": "stderr",
     "output_type": "stream",
     "text": [
      "Epoch 4/30 - Training: 100%|██████████| 889/889 [00:29<00:00, 30.43it/s, train_loss=5.79]\n"
     ]
    },
    {
     "name": "stdout",
     "output_type": "stream",
     "text": [
      "Epoch 4 train loss : 5.793781617645341\n"
     ]
    },
    {
     "name": "stderr",
     "output_type": "stream",
     "text": [
      "Epoch 4/30 - Validation: 100%|██████████| 191/191 [00:04<00:00, 42.22it/s, valid_loss=5.83]\n"
     ]
    },
    {
     "name": "stdout",
     "output_type": "stream",
     "text": [
      "Epoch 4 valid loss : 5.825285914221767\n",
      "Found better model. Best loss: 5.825285914221767\n",
      "Saving best model to ../../models/converged_models/best_RFW_resnet18_lambda=64_data_rate=3.pth\n"
     ]
    },
    {
     "name": "stderr",
     "output_type": "stream",
     "text": [
      "Epoch 5/30 - Training: 100%|██████████| 889/889 [00:29<00:00, 29.94it/s, train_loss=5.78]\n"
     ]
    },
    {
     "name": "stdout",
     "output_type": "stream",
     "text": [
      "Epoch 5 train loss : 5.775850380302448\n"
     ]
    },
    {
     "name": "stderr",
     "output_type": "stream",
     "text": [
      "Epoch 5/30 - Validation: 100%|██████████| 191/191 [00:04<00:00, 43.05it/s, valid_loss=5.83]\n"
     ]
    },
    {
     "name": "stdout",
     "output_type": "stream",
     "text": [
      "Epoch 5 valid loss : 5.83223658182648\n"
     ]
    },
    {
     "name": "stderr",
     "output_type": "stream",
     "text": [
      "Epoch 6/30 - Training: 100%|██████████| 889/889 [00:29<00:00, 30.25it/s, train_loss=5.75]\n"
     ]
    },
    {
     "name": "stdout",
     "output_type": "stream",
     "text": [
      "Epoch 6 train loss : 5.752313921493844\n"
     ]
    },
    {
     "name": "stderr",
     "output_type": "stream",
     "text": [
      "Epoch 6/30 - Validation: 100%|██████████| 191/191 [00:04<00:00, 42.24it/s, valid_loss=5.83]\n"
     ]
    },
    {
     "name": "stdout",
     "output_type": "stream",
     "text": [
      "Epoch 6 valid loss : 5.828188867370124\n"
     ]
    },
    {
     "name": "stderr",
     "output_type": "stream",
     "text": [
      "Epoch 7/30 - Training: 100%|██████████| 889/889 [00:29<00:00, 29.68it/s, train_loss=5.73]\n"
     ]
    },
    {
     "name": "stdout",
     "output_type": "stream",
     "text": [
      "Epoch 7 train loss : 5.732042674443905\n"
     ]
    },
    {
     "name": "stderr",
     "output_type": "stream",
     "text": [
      "Epoch 7/30 - Validation: 100%|██████████| 191/191 [00:04<00:00, 42.52it/s, valid_loss=5.83]\n"
     ]
    },
    {
     "name": "stdout",
     "output_type": "stream",
     "text": [
      "Epoch 7 valid loss : 5.828330819388756\n"
     ]
    },
    {
     "name": "stderr",
     "output_type": "stream",
     "text": [
      "Epoch 8/30 - Training: 100%|██████████| 889/889 [00:28<00:00, 30.68it/s, train_loss=5.71]\n"
     ]
    },
    {
     "name": "stdout",
     "output_type": "stream",
     "text": [
      "Epoch 8 train loss : 5.71137142677962\n"
     ]
    },
    {
     "name": "stderr",
     "output_type": "stream",
     "text": [
      "Epoch 8/30 - Validation: 100%|██████████| 191/191 [00:04<00:00, 43.37it/s, valid_loss=5.85]\n"
     ]
    },
    {
     "name": "stdout",
     "output_type": "stream",
     "text": [
      "Epoch 8 valid loss : 5.845045654551773\n"
     ]
    },
    {
     "name": "stderr",
     "output_type": "stream",
     "text": [
      "Epoch 9/30 - Training: 100%|██████████| 889/889 [00:30<00:00, 29.54it/s, train_loss=5.68]\n"
     ]
    },
    {
     "name": "stdout",
     "output_type": "stream",
     "text": [
      "Epoch 9 train loss : 5.684938991234197\n"
     ]
    },
    {
     "name": "stderr",
     "output_type": "stream",
     "text": [
      "Epoch 9/30 - Validation: 100%|██████████| 191/191 [00:04<00:00, 42.17it/s, valid_loss=5.84]\n"
     ]
    },
    {
     "name": "stdout",
     "output_type": "stream",
     "text": [
      "Epoch 9 valid loss : 5.844274833233285\n"
     ]
    },
    {
     "name": "stderr",
     "output_type": "stream",
     "text": [
      "Epoch 10/30 - Training: 100%|██████████| 889/889 [00:28<00:00, 30.76it/s, train_loss=5.66]\n"
     ]
    },
    {
     "name": "stdout",
     "output_type": "stream",
     "text": [
      "Epoch 10 train loss : 5.659450544158137\n"
     ]
    },
    {
     "name": "stderr",
     "output_type": "stream",
     "text": [
      "Epoch 10/30 - Validation: 100%|██████████| 191/191 [00:04<00:00, 44.29it/s, valid_loss=5.9]\n"
     ]
    },
    {
     "name": "stdout",
     "output_type": "stream",
     "text": [
      "Epoch 10 valid loss : 5.899285722925753\n"
     ]
    },
    {
     "name": "stderr",
     "output_type": "stream",
     "text": [
      "Epoch 11/30 - Training: 100%|██████████| 889/889 [00:28<00:00, 31.47it/s, train_loss=5.63]\n"
     ]
    },
    {
     "name": "stdout",
     "output_type": "stream",
     "text": [
      "Epoch 11 train loss : 5.62708300642319\n"
     ]
    },
    {
     "name": "stderr",
     "output_type": "stream",
     "text": [
      "Epoch 11/30 - Validation: 100%|██████████| 191/191 [00:04<00:00, 45.36it/s, valid_loss=5.9]\n"
     ]
    },
    {
     "name": "stdout",
     "output_type": "stream",
     "text": [
      "Epoch 11 valid loss : 5.902892648831237\n"
     ]
    },
    {
     "name": "stderr",
     "output_type": "stream",
     "text": [
      "Epoch 12/30 - Training: 100%|██████████| 889/889 [00:29<00:00, 30.24it/s, train_loss=5.6]\n"
     ]
    },
    {
     "name": "stdout",
     "output_type": "stream",
     "text": [
      "Epoch 12 train loss : 5.597146627301067\n"
     ]
    },
    {
     "name": "stderr",
     "output_type": "stream",
     "text": [
      "Epoch 12/30 - Validation: 100%|██████████| 191/191 [00:04<00:00, 38.83it/s, valid_loss=5.9]\n"
     ]
    },
    {
     "name": "stdout",
     "output_type": "stream",
     "text": [
      "Epoch 12 valid loss : 5.903357287146857\n"
     ]
    },
    {
     "name": "stderr",
     "output_type": "stream",
     "text": [
      "Epoch 13/30 - Training: 100%|██████████| 889/889 [00:29<00:00, 30.51it/s, train_loss=5.57]\n"
     ]
    },
    {
     "name": "stdout",
     "output_type": "stream",
     "text": [
      "Epoch 13 train loss : 5.565877020879091\n"
     ]
    },
    {
     "name": "stderr",
     "output_type": "stream",
     "text": [
      "Epoch 13/30 - Validation: 100%|██████████| 191/191 [00:04<00:00, 41.92it/s, valid_loss=5.92]\n"
     ]
    },
    {
     "name": "stdout",
     "output_type": "stream",
     "text": [
      "Epoch 13 valid loss : 5.915698525236659\n"
     ]
    },
    {
     "name": "stderr",
     "output_type": "stream",
     "text": [
      "Epoch 14/30 - Training: 100%|██████████| 889/889 [00:30<00:00, 29.06it/s, train_loss=5.53]\n"
     ]
    },
    {
     "name": "stdout",
     "output_type": "stream",
     "text": [
      "Epoch 14 train loss : 5.533035379512324\n"
     ]
    },
    {
     "name": "stderr",
     "output_type": "stream",
     "text": [
      "Epoch 14/30 - Validation: 100%|██████████| 191/191 [00:04<00:00, 39.03it/s, valid_loss=5.93]\n"
     ]
    },
    {
     "name": "stdout",
     "output_type": "stream",
     "text": [
      "Epoch 14 valid loss : 5.927432375575811\n",
      "Early stopping at epoch 14\n"
     ]
    },
    {
     "data": {
      "image/png": "[encoded data removed]",
      "text/plain": [
       "<Figure size 640x480 with 1 Axes>"
      ]
     },
     "metadata": {},
     "output_type": "display_data"
    },
    {
     "name": "stderr",
     "output_type": "stream",
     "text": [
      "/home/rasta/.conda/envs/fnc_eval/lib/python3.9/site-packages/torchvision/transforms/v2/_deprecated.py:42: UserWarning: The transform `ToTensor()` is deprecated and will be removed in a future release. Instead, please use `v2.Compose([v2.ToImage(), v2.ToDtype(torch.float32, scale=True)])`.Output is equivalent up to float precision.\n",
      "  warnings.warn(\n",
      "/home/rasta/.conda/envs/fnc_eval/lib/python3.9/site-packages/torchvision/models/_utils.py:208: UserWarning: The parameter 'pretrained' is deprecated since 0.13 and may be removed in the future, please use 'weights' instead.\n",
      "  warnings.warn(\n",
      "/home/rasta/.conda/envs/fnc_eval/lib/python3.9/site-packages/torchvision/models/_utils.py:223: UserWarning: Arguments other than a weight enum or `None` for 'weights' are deprecated since 0.13 and may be removed in the future. The current behavior is equivalent to passing `weights=ResNet18_Weights.IMAGENET1K_V1`. You can also use `weights=ResNet18_Weights.DEFAULT` to get the most up-to-date weights.\n",
      "  warnings.warn(msg)\n",
      "Epoch 1/30 - Training: 100%|██████████| 889/889 [00:29<00:00, 29.88it/s, train_loss=5.68]\n"
     ]
    },
    {
     "name": "stdout",
     "output_type": "stream",
     "text": [
      "Epoch 1 train loss : 5.679364716003486\n"
     ]
    },
    {
     "name": "stderr",
     "output_type": "stream",
     "text": [
      "Epoch 1/30 - Validation: 100%|██████████| 191/191 [00:04<00:00, 42.10it/s, valid_loss=5.61]\n"
     ]
    },
    {
     "name": "stdout",
     "output_type": "stream",
     "text": [
      "Epoch 1 valid loss : 5.606898282748924\n",
      "Found better model. Best loss: 5.606898282748924\n",
      "Saving best model to ../../models/converged_models/best_RFW_resnet18_lambda=64_data_rate=6.pth\n"
     ]
    },
    {
     "name": "stderr",
     "output_type": "stream",
     "text": [
      "Epoch 2/30 - Training: 100%|██████████| 889/889 [00:29<00:00, 30.42it/s, train_loss=5.51]\n"
     ]
    },
    {
     "name": "stdout",
     "output_type": "stream",
     "text": [
      "Epoch 2 train loss : 5.510738647390077\n"
     ]
    },
    {
     "name": "stderr",
     "output_type": "stream",
     "text": [
      "Epoch 2/30 - Validation: 100%|██████████| 191/191 [00:04<00:00, 41.75it/s, valid_loss=5.49]\n"
     ]
    },
    {
     "name": "stdout",
     "output_type": "stream",
     "text": [
      "Epoch 2 valid loss : 5.489109459230219\n",
      "Found better model. Best loss: 5.489109459230219\n",
      "Saving best model to ../../models/converged_models/best_RFW_resnet18_lambda=64_data_rate=6.pth\n"
     ]
    },
    {
     "name": "stderr",
     "output_type": "stream",
     "text": [
      "Epoch 3/30 - Training: 100%|██████████| 889/889 [00:29<00:00, 30.53it/s, train_loss=5.45]\n"
     ]
    },
    {
     "name": "stdout",
     "output_type": "stream",
     "text": [
      "Epoch 3 train loss : 5.4467463755050645\n"
     ]
    },
    {
     "name": "stderr",
     "output_type": "stream",
     "text": [
      "Epoch 3/30 - Validation: 100%|██████████| 191/191 [00:04<00:00, 42.47it/s, valid_loss=5.52]\n"
     ]
    },
    {
     "name": "stdout",
     "output_type": "stream",
     "text": [
      "Epoch 3 valid loss : 5.517378452825851\n"
     ]
    },
    {
     "name": "stderr",
     "output_type": "stream",
     "text": [
      "Epoch 4/30 - Training: 100%|██████████| 889/889 [00:28<00:00, 30.71it/s, train_loss=5.4]\n"
     ]
    },
    {
     "name": "stdout",
     "output_type": "stream",
     "text": [
      "Epoch 4 train loss : 5.397969501574812\n"
     ]
    },
    {
     "name": "stderr",
     "output_type": "stream",
     "text": [
      "Epoch 4/30 - Validation: 100%|██████████| 191/191 [00:04<00:00, 42.75it/s, valid_loss=5.5]\n"
     ]
    },
    {
     "name": "stdout",
     "output_type": "stream",
     "text": [
      "Epoch 4 valid loss : 5.502729792916663\n"
     ]
    },
    {
     "name": "stderr",
     "output_type": "stream",
     "text": [
      "Epoch 5/30 - Training: 100%|██████████| 889/889 [00:28<00:00, 30.79it/s, train_loss=5.35]\n"
     ]
    },
    {
     "name": "stdout",
     "output_type": "stream",
     "text": [
      "Epoch 5 train loss : 5.345247962660699\n"
     ]
    },
    {
     "name": "stderr",
     "output_type": "stream",
     "text": [
      "Epoch 5/30 - Validation: 100%|██████████| 191/191 [00:04<00:00, 42.70it/s, valid_loss=5.47]\n"
     ]
    },
    {
     "name": "stdout",
     "output_type": "stream",
     "text": [
      "Epoch 5 valid loss : 5.472710572093837\n",
      "Found better model. Best loss: 5.472710572093837\n",
      "Saving best model to ../../models/converged_models/best_RFW_resnet18_lambda=64_data_rate=6.pth\n"
     ]
    },
    {
     "name": "stderr",
     "output_type": "stream",
     "text": [
      "Epoch 6/30 - Training: 100%|██████████| 889/889 [00:29<00:00, 29.72it/s, train_loss=5.29]\n"
     ]
    },
    {
     "name": "stdout",
     "output_type": "stream",
     "text": [
      "Epoch 6 train loss : 5.289848119481798\n"
     ]
    },
    {
     "name": "stderr",
     "output_type": "stream",
     "text": [
      "Epoch 6/30 - Validation: 100%|██████████| 191/191 [00:04<00:00, 40.25it/s, valid_loss=5.47]\n"
     ]
    },
    {
     "name": "stdout",
     "output_type": "stream",
     "text": [
      "Epoch 6 valid loss : 5.471573057912132\n",
      "Found better model. Best loss: 5.471573057912132\n",
      "Saving best model to ../../models/converged_models/best_RFW_resnet18_lambda=64_data_rate=6.pth\n"
     ]
    },
    {
     "name": "stderr",
     "output_type": "stream",
     "text": [
      "Epoch 7/30 - Training: 100%|██████████| 889/889 [00:30<00:00, 29.33it/s, train_loss=5.23]\n"
     ]
    },
    {
     "name": "stdout",
     "output_type": "stream",
     "text": [
      "Epoch 7 train loss : 5.234928782007039\n"
     ]
    },
    {
     "name": "stderr",
     "output_type": "stream",
     "text": [
      "Epoch 7/30 - Validation: 100%|██████████| 191/191 [00:04<00:00, 43.16it/s, valid_loss=5.49]\n"
     ]
    },
    {
     "name": "stdout",
     "output_type": "stream",
     "text": [
      "Epoch 7 valid loss : 5.490097821708032\n"
     ]
    },
    {
     "name": "stderr",
     "output_type": "stream",
     "text": [
      "Epoch 8/30 - Training: 100%|██████████| 889/889 [00:28<00:00, 30.96it/s, train_loss=5.17]\n"
     ]
    },
    {
     "name": "stdout",
     "output_type": "stream",
     "text": [
      "Epoch 8 train loss : 5.174347773357877\n"
     ]
    },
    {
     "name": "stderr",
     "output_type": "stream",
     "text": [
      "Epoch 8/30 - Validation: 100%|██████████| 191/191 [00:04<00:00, 43.04it/s, valid_loss=5.49]\n"
     ]
    },
    {
     "name": "stdout",
     "output_type": "stream",
     "text": [
      "Epoch 8 valid loss : 5.487107551855282\n"
     ]
    },
    {
     "name": "stderr",
     "output_type": "stream",
     "text": [
      "Epoch 9/30 - Training: 100%|██████████| 889/889 [00:31<00:00, 28.66it/s, train_loss=5.12]\n"
     ]
    },
    {
     "name": "stdout",
     "output_type": "stream",
     "text": [
      "Epoch 9 train loss : 5.120623997222059\n"
     ]
    },
    {
     "name": "stderr",
     "output_type": "stream",
     "text": [
      "Epoch 9/30 - Validation: 100%|██████████| 191/191 [00:04<00:00, 41.35it/s, valid_loss=5.53]\n"
     ]
    },
    {
     "name": "stdout",
     "output_type": "stream",
     "text": [
      "Epoch 9 valid loss : 5.52523072978151\n"
     ]
    },
    {
     "name": "stderr",
     "output_type": "stream",
     "text": [
      "Epoch 10/30 - Training: 100%|██████████| 889/889 [00:32<00:00, 27.41it/s, train_loss=5.07]\n"
     ]
    },
    {
     "name": "stdout",
     "output_type": "stream",
     "text": [
      "Epoch 10 train loss : 5.071313963518859\n"
     ]
    },
    {
     "name": "stderr",
     "output_type": "stream",
     "text": [
      "Epoch 10/30 - Validation: 100%|██████████| 191/191 [00:04<00:00, 40.30it/s, valid_loss=5.5]\n"
     ]
    },
    {
     "name": "stdout",
     "output_type": "stream",
     "text": [
      "Epoch 10 valid loss : 5.496912606379763\n"
     ]
    },
    {
     "name": "stderr",
     "output_type": "stream",
     "text": [
      "Epoch 11/30 - Training: 100%|██████████| 889/889 [00:30<00:00, 29.00it/s, train_loss=5.02]\n"
     ]
    },
    {
     "name": "stdout",
     "output_type": "stream",
     "text": [
      "Epoch 11 train loss : 5.023157891977548\n"
     ]
    },
    {
     "name": "stderr",
     "output_type": "stream",
     "text": [
      "Epoch 11/30 - Validation: 100%|██████████| 191/191 [00:05<00:00, 33.78it/s, valid_loss=5.51]\n"
     ]
    },
    {
     "name": "stdout",
     "output_type": "stream",
     "text": [
      "Epoch 11 valid loss : 5.511077111938907\n"
     ]
    },
    {
     "name": "stderr",
     "output_type": "stream",
     "text": [
      "Epoch 12/30 - Training: 100%|██████████| 889/889 [00:29<00:00, 30.36it/s, train_loss=4.98]\n"
     ]
    },
    {
     "name": "stdout",
     "output_type": "stream",
     "text": [
      "Epoch 12 train loss : 4.981056919038849\n"
     ]
    },
    {
     "name": "stderr",
     "output_type": "stream",
     "text": [
      "Epoch 12/30 - Validation: 100%|██████████| 191/191 [00:04<00:00, 43.02it/s, valid_loss=5.53]\n"
     ]
    },
    {
     "name": "stdout",
     "output_type": "stream",
     "text": [
      "Epoch 12 valid loss : 5.531119458332102\n"
     ]
    },
    {
     "name": "stderr",
     "output_type": "stream",
     "text": [
      "Epoch 13/30 - Training: 100%|██████████| 889/889 [00:29<00:00, 30.38it/s, train_loss=4.94]\n"
     ]
    },
    {
     "name": "stdout",
     "output_type": "stream",
     "text": [
      "Epoch 13 train loss : 4.944092514881979\n"
     ]
    },
    {
     "name": "stderr",
     "output_type": "stream",
     "text": [
      "Epoch 13/30 - Validation: 100%|██████████| 191/191 [00:04<00:00, 42.86it/s, valid_loss=5.55]\n"
     ]
    },
    {
     "name": "stdout",
     "output_type": "stream",
     "text": [
      "Epoch 13 valid loss : 5.5499930491374645\n"
     ]
    },
    {
     "name": "stderr",
     "output_type": "stream",
     "text": [
      "Epoch 14/30 - Training: 100%|██████████| 889/889 [00:30<00:00, 29.45it/s, train_loss=4.9]\n"
     ]
    },
    {
     "name": "stdout",
     "output_type": "stream",
     "text": [
      "Epoch 14 train loss : 4.899684021716516\n"
     ]
    },
    {
     "name": "stderr",
     "output_type": "stream",
     "text": [
      "Epoch 14/30 - Validation: 100%|██████████| 191/191 [00:04<00:00, 43.09it/s, valid_loss=5.5]\n"
     ]
    },
    {
     "name": "stdout",
     "output_type": "stream",
     "text": [
      "Epoch 14 valid loss : 5.4976544871038255\n"
     ]
    },
    {
     "name": "stderr",
     "output_type": "stream",
     "text": [
      "Epoch 15/30 - Training: 100%|██████████| 889/889 [00:29<00:00, 29.80it/s, train_loss=4.87]\n"
     ]
    },
    {
     "name": "stdout",
     "output_type": "stream",
     "text": [
      "Epoch 15 train loss : 4.872129396824578\n"
     ]
    },
    {
     "name": "stderr",
     "output_type": "stream",
     "text": [
      "Epoch 15/30 - Validation: 100%|██████████| 191/191 [00:04<00:00, 39.89it/s, valid_loss=5.56]\n"
     ]
    },
    {
     "name": "stdout",
     "output_type": "stream",
     "text": [
      "Epoch 15 valid loss : 5.564428513517052\n"
     ]
    },
    {
     "name": "stderr",
     "output_type": "stream",
     "text": [
      "Epoch 16/30 - Training: 100%|██████████| 889/889 [00:29<00:00, 30.60it/s, train_loss=4.84]\n"
     ]
    },
    {
     "name": "stdout",
     "output_type": "stream",
     "text": [
      "Epoch 16 train loss : 4.844826615094937\n"
     ]
    },
    {
     "name": "stderr",
     "output_type": "stream",
     "text": [
      "Epoch 16/30 - Validation: 100%|██████████| 191/191 [00:04<00:00, 42.33it/s, valid_loss=5.53]\n"
     ]
    },
    {
     "name": "stdout",
     "output_type": "stream",
     "text": [
      "Epoch 16 valid loss : 5.53138623404358\n",
      "Early stopping at epoch 16\n"
     ]
    },
    {
     "data": {
      "image/png": "[encoded data removed]",
      "text/plain": [
       "<Figure size 640x480 with 1 Axes>"
      ]
     },
     "metadata": {},
     "output_type": "display_data"
    },
    {
     "name": "stderr",
     "output_type": "stream",
     "text": [
      "/home/rasta/.conda/envs/fnc_eval/lib/python3.9/site-packages/torchvision/transforms/v2/_deprecated.py:42: UserWarning: The transform `ToTensor()` is deprecated and will be removed in a future release. Instead, please use `v2.Compose([v2.ToImage(), v2.ToDtype(torch.float32, scale=True)])`.Output is equivalent up to float precision.\n",
      "  warnings.warn(\n",
      "/home/rasta/.conda/envs/fnc_eval/lib/python3.9/site-packages/torchvision/models/_utils.py:208: UserWarning: The parameter 'pretrained' is deprecated since 0.13 and may be removed in the future, please use 'weights' instead.\n",
      "  warnings.warn(\n",
      "/home/rasta/.conda/envs/fnc_eval/lib/python3.9/site-packages/torchvision/models/_utils.py:223: UserWarning: Arguments other than a weight enum or `None` for 'weights' are deprecated since 0.13 and may be removed in the future. The current behavior is equivalent to passing `weights=ResNet18_Weights.IMAGENET1K_V1`. You can also use `weights=ResNet18_Weights.DEFAULT` to get the most up-to-date weights.\n",
      "  warnings.warn(msg)\n",
      "Epoch 1/30 - Training: 100%|██████████| 889/889 [00:31<00:00, 28.57it/s, train_loss=5.64]\n"
     ]
    },
    {
     "name": "stdout",
     "output_type": "stream",
     "text": [
      "Epoch 1 train loss : 5.639249036924758\n"
     ]
    },
    {
     "name": "stderr",
     "output_type": "stream",
     "text": [
      "Epoch 1/30 - Validation: 100%|██████████| 191/191 [00:04<00:00, 38.64it/s, valid_loss=5.48]\n"
     ]
    },
    {
     "name": "stdout",
     "output_type": "stream",
     "text": [
      "Epoch 1 valid loss : 5.478189979744865\n",
      "Found better model. Best loss: 5.478189979744865\n",
      "Saving best model to ../../models/converged_models/best_RFW_resnet18_lambda=64_data_rate=9.pth\n"
     ]
    },
    {
     "name": "stderr",
     "output_type": "stream",
     "text": [
      "Epoch 2/30 - Training: 100%|██████████| 889/889 [00:30<00:00, 29.11it/s, train_loss=5.41]\n"
     ]
    },
    {
     "name": "stdout",
     "output_type": "stream",
     "text": [
      "Epoch 2 train loss : 5.412699929432502\n"
     ]
    },
    {
     "name": "stderr",
     "output_type": "stream",
     "text": [
      "Epoch 2/30 - Validation: 100%|██████████| 191/191 [00:05<00:00, 38.19it/s, valid_loss=5.39]\n"
     ]
    },
    {
     "name": "stdout",
     "output_type": "stream",
     "text": [
      "Epoch 2 valid loss : 5.387200192382743\n",
      "Found better model. Best loss: 5.387200192382743\n",
      "Saving best model to ../../models/converged_models/best_RFW_resnet18_lambda=64_data_rate=9.pth\n"
     ]
    },
    {
     "name": "stderr",
     "output_type": "stream",
     "text": [
      "Epoch 3/30 - Training: 100%|██████████| 889/889 [00:30<00:00, 29.29it/s, train_loss=5.33]\n"
     ]
    },
    {
     "name": "stdout",
     "output_type": "stream",
     "text": [
      "Epoch 3 train loss : 5.327700711289762\n"
     ]
    },
    {
     "name": "stderr",
     "output_type": "stream",
     "text": [
      "Epoch 3/30 - Validation: 100%|██████████| 191/191 [00:04<00:00, 39.73it/s, valid_loss=5.37]\n"
     ]
    },
    {
     "name": "stdout",
     "output_type": "stream",
     "text": [
      "Epoch 3 valid loss : 5.371210501985075\n",
      "Found better model. Best loss: 5.371210501985075\n",
      "Saving best model to ../../models/converged_models/best_RFW_resnet18_lambda=64_data_rate=9.pth\n"
     ]
    },
    {
     "name": "stderr",
     "output_type": "stream",
     "text": [
      "Epoch 4/30 - Training: 100%|██████████| 889/889 [00:29<00:00, 29.86it/s, train_loss=5.26]\n"
     ]
    },
    {
     "name": "stdout",
     "output_type": "stream",
     "text": [
      "Epoch 4 train loss : 5.264113025735071\n"
     ]
    },
    {
     "name": "stderr",
     "output_type": "stream",
     "text": [
      "Epoch 4/30 - Validation: 100%|██████████| 191/191 [00:04<00:00, 40.11it/s, valid_loss=5.34]\n"
     ]
    },
    {
     "name": "stdout",
     "output_type": "stream",
     "text": [
      "Epoch 4 valid loss : 5.337347775839601\n",
      "Found better model. Best loss: 5.337347775839601\n",
      "Saving best model to ../../models/converged_models/best_RFW_resnet18_lambda=64_data_rate=9.pth\n"
     ]
    },
    {
     "name": "stderr",
     "output_type": "stream",
     "text": [
      "Epoch 5/30 - Training: 100%|██████████| 889/889 [00:32<00:00, 27.35it/s, train_loss=5.21]\n"
     ]
    },
    {
     "name": "stdout",
     "output_type": "stream",
     "text": [
      "Epoch 5 train loss : 5.206181048407475\n"
     ]
    },
    {
     "name": "stderr",
     "output_type": "stream",
     "text": [
      "Epoch 5/30 - Validation: 100%|██████████| 191/191 [00:05<00:00, 38.09it/s, valid_loss=5.34]\n"
     ]
    },
    {
     "name": "stdout",
     "output_type": "stream",
     "text": [
      "Epoch 5 valid loss : 5.340554045096463\n"
     ]
    },
    {
     "name": "stderr",
     "output_type": "stream",
     "text": [
      "Epoch 6/30 - Training: 100%|██████████| 889/889 [00:32<00:00, 27.75it/s, train_loss=5.15]\n"
     ]
    },
    {
     "name": "stdout",
     "output_type": "stream",
     "text": [
      "Epoch 6 train loss : 5.146999355238859\n"
     ]
    },
    {
     "name": "stderr",
     "output_type": "stream",
     "text": [
      "Epoch 6/30 - Validation: 100%|██████████| 191/191 [00:05<00:00, 33.70it/s, valid_loss=5.39]\n"
     ]
    },
    {
     "name": "stdout",
     "output_type": "stream",
     "text": [
      "Epoch 6 valid loss : 5.385698780757495\n"
     ]
    },
    {
     "name": "stderr",
     "output_type": "stream",
     "text": [
      "Epoch 7/30 - Training: 100%|██████████| 889/889 [00:31<00:00, 28.30it/s, train_loss=5.08]\n"
     ]
    },
    {
     "name": "stdout",
     "output_type": "stream",
     "text": [
      "Epoch 7 train loss : 5.0840091793898825\n"
     ]
    },
    {
     "name": "stderr",
     "output_type": "stream",
     "text": [
      "Epoch 7/30 - Validation: 100%|██████████| 191/191 [00:04<00:00, 40.08it/s, valid_loss=5.37]\n"
     ]
    },
    {
     "name": "stdout",
     "output_type": "stream",
     "text": [
      "Epoch 7 valid loss : 5.374989717352314\n"
     ]
    },
    {
     "name": "stderr",
     "output_type": "stream",
     "text": [
      "Epoch 8/30 - Training: 100%|██████████| 889/889 [00:30<00:00, 29.59it/s, train_loss=5.02]\n"
     ]
    },
    {
     "name": "stdout",
     "output_type": "stream",
     "text": [
      "Epoch 8 train loss : 5.016943150226949\n"
     ]
    },
    {
     "name": "stderr",
     "output_type": "stream",
     "text": [
      "Epoch 8/30 - Validation: 100%|██████████| 191/191 [00:04<00:00, 40.23it/s, valid_loss=5.39]\n"
     ]
    },
    {
     "name": "stdout",
     "output_type": "stream",
     "text": [
      "Epoch 8 valid loss : 5.3919067902628415\n"
     ]
    },
    {
     "name": "stderr",
     "output_type": "stream",
     "text": [
      "Epoch 9/30 - Training: 100%|██████████| 889/889 [00:30<00:00, 29.05it/s, train_loss=4.95]\n"
     ]
    },
    {
     "name": "stdout",
     "output_type": "stream",
     "text": [
      "Epoch 9 train loss : 4.954637050897076\n"
     ]
    },
    {
     "name": "stderr",
     "output_type": "stream",
     "text": [
      "Epoch 9/30 - Validation: 100%|██████████| 191/191 [00:04<00:00, 39.99it/s, valid_loss=5.43]\n"
     ]
    },
    {
     "name": "stdout",
     "output_type": "stream",
     "text": [
      "Epoch 9 valid loss : 5.431112887843296\n"
     ]
    },
    {
     "name": "stderr",
     "output_type": "stream",
     "text": [
      "Epoch 10/30 - Training: 100%|██████████| 889/889 [00:29<00:00, 30.01it/s, train_loss=4.9]\n"
     ]
    },
    {
     "name": "stdout",
     "output_type": "stream",
     "text": [
      "Epoch 10 train loss : 4.900113060680403\n"
     ]
    },
    {
     "name": "stderr",
     "output_type": "stream",
     "text": [
      "Epoch 10/30 - Validation: 100%|██████████| 191/191 [00:04<00:00, 41.27it/s, valid_loss=5.39]\n"
     ]
    },
    {
     "name": "stdout",
     "output_type": "stream",
     "text": [
      "Epoch 10 valid loss : 5.388749090992275\n"
     ]
    },
    {
     "name": "stderr",
     "output_type": "stream",
     "text": [
      "Epoch 11/30 - Training: 100%|██████████| 889/889 [00:29<00:00, 29.92it/s, train_loss=4.85]\n"
     ]
    },
    {
     "name": "stdout",
     "output_type": "stream",
     "text": [
      "Epoch 11 train loss : 4.852390530342254\n"
     ]
    },
    {
     "name": "stderr",
     "output_type": "stream",
     "text": [
      "Epoch 11/30 - Validation: 100%|██████████| 191/191 [00:04<00:00, 41.64it/s, valid_loss=5.39]\n"
     ]
    },
    {
     "name": "stdout",
     "output_type": "stream",
     "text": [
      "Epoch 11 valid loss : 5.394390918961536\n"
     ]
    },
    {
     "name": "stderr",
     "output_type": "stream",
     "text": [
      "Epoch 12/30 - Training: 100%|██████████| 889/889 [00:30<00:00, 28.75it/s, train_loss=4.81]\n"
     ]
    },
    {
     "name": "stdout",
     "output_type": "stream",
     "text": [
      "Epoch 12 train loss : 4.811417797066076\n"
     ]
    },
    {
     "name": "stderr",
     "output_type": "stream",
     "text": [
      "Epoch 12/30 - Validation: 100%|██████████| 191/191 [00:04<00:00, 40.66it/s, valid_loss=5.37]\n"
     ]
    },
    {
     "name": "stdout",
     "output_type": "stream",
     "text": [
      "Epoch 12 valid loss : 5.369952770196203\n"
     ]
    },
    {
     "name": "stderr",
     "output_type": "stream",
     "text": [
      "Epoch 13/30 - Training: 100%|██████████| 889/889 [00:29<00:00, 30.10it/s, train_loss=4.77]\n"
     ]
    },
    {
     "name": "stdout",
     "output_type": "stream",
     "text": [
      "Epoch 13 train loss : 4.766805683160681\n"
     ]
    },
    {
     "name": "stderr",
     "output_type": "stream",
     "text": [
      "Epoch 13/30 - Validation: 100%|██████████| 191/191 [00:04<00:00, 42.60it/s, valid_loss=5.38]\n"
     ]
    },
    {
     "name": "stdout",
     "output_type": "stream",
     "text": [
      "Epoch 13 valid loss : 5.381098103589797\n"
     ]
    },
    {
     "name": "stderr",
     "output_type": "stream",
     "text": [
      "Epoch 14/30 - Training: 100%|██████████| 889/889 [00:29<00:00, 30.54it/s, train_loss=4.73]\n"
     ]
    },
    {
     "name": "stdout",
     "output_type": "stream",
     "text": [
      "Epoch 14 train loss : 4.734062372111549\n"
     ]
    },
    {
     "name": "stderr",
     "output_type": "stream",
     "text": [
      "Epoch 14/30 - Validation: 100%|██████████| 191/191 [00:05<00:00, 34.88it/s, valid_loss=5.41]\n"
     ]
    },
    {
     "name": "stdout",
     "output_type": "stream",
     "text": [
      "Epoch 14 valid loss : 5.407324111984195\n",
      "Early stopping at epoch 14\n"
     ]
    },
    {
     "data": {
      "image/png": "[encoded data removed]",
      "text/plain": [
       "<Figure size 640x480 with 1 Axes>"
      ]
     },
     "metadata": {},
     "output_type": "display_data"
    },
    {
     "name": "stderr",
     "output_type": "stream",
     "text": [
      "/home/rasta/.conda/envs/fnc_eval/lib/python3.9/site-packages/torchvision/transforms/v2/_deprecated.py:42: UserWarning: The transform `ToTensor()` is deprecated and will be removed in a future release. Instead, please use `v2.Compose([v2.ToImage(), v2.ToDtype(torch.float32, scale=True)])`.Output is equivalent up to float precision.\n",
      "  warnings.warn(\n",
      "/home/rasta/.conda/envs/fnc_eval/lib/python3.9/site-packages/torchvision/models/_utils.py:208: UserWarning: The parameter 'pretrained' is deprecated since 0.13 and may be removed in the future, please use 'weights' instead.\n",
      "  warnings.warn(\n",
      "/home/rasta/.conda/envs/fnc_eval/lib/python3.9/site-packages/torchvision/models/_utils.py:223: UserWarning: Arguments other than a weight enum or `None` for 'weights' are deprecated since 0.13 and may be removed in the future. The current behavior is equivalent to passing `weights=ResNet18_Weights.IMAGENET1K_V1`. You can also use `weights=ResNet18_Weights.DEFAULT` to get the most up-to-date weights.\n",
      "  warnings.warn(msg)\n",
      "Epoch 1/30 - Training: 100%|██████████| 889/889 [00:31<00:00, 28.62it/s, train_loss=5.59]\n"
     ]
    },
    {
     "name": "stdout",
     "output_type": "stream",
     "text": [
      "Epoch 1 train loss : 5.5857230710406185\n"
     ]
    },
    {
     "name": "stderr",
     "output_type": "stream",
     "text": [
      "Epoch 1/30 - Validation: 100%|██████████| 191/191 [00:04<00:00, 38.83it/s, valid_loss=5.43]\n"
     ]
    },
    {
     "name": "stdout",
     "output_type": "stream",
     "text": [
      "Epoch 1 valid loss : 5.429261040440962\n",
      "Found better model. Best loss: 5.429261040440962\n",
      "Saving best model to ../../models/converged_models/best_RFW_resnet18_lambda=64_data_rate=12.pth\n"
     ]
    },
    {
     "name": "stderr",
     "output_type": "stream",
     "text": [
      "Epoch 2/30 - Training: 100%|██████████| 889/889 [00:30<00:00, 29.02it/s, train_loss=5.39]\n"
     ]
    },
    {
     "name": "stdout",
     "output_type": "stream",
     "text": [
      "Epoch 2 train loss : 5.3874446029834875\n"
     ]
    },
    {
     "name": "stderr",
     "output_type": "stream",
     "text": [
      "Epoch 2/30 - Validation: 100%|██████████| 191/191 [00:04<00:00, 39.25it/s, valid_loss=5.37]\n"
     ]
    },
    {
     "name": "stdout",
     "output_type": "stream",
     "text": [
      "Epoch 2 valid loss : 5.3725716440259985\n",
      "Found better model. Best loss: 5.3725716440259985\n",
      "Saving best model to ../../models/converged_models/best_RFW_resnet18_lambda=64_data_rate=12.pth\n"
     ]
    },
    {
     "name": "stderr",
     "output_type": "stream",
     "text": [
      "Epoch 3/30 - Training: 100%|██████████| 889/889 [00:31<00:00, 28.48it/s, train_loss=5.32]\n"
     ]
    },
    {
     "name": "stdout",
     "output_type": "stream",
     "text": [
      "Epoch 3 train loss : 5.32176313177485\n"
     ]
    },
    {
     "name": "stderr",
     "output_type": "stream",
     "text": [
      "Epoch 3/30 - Validation: 100%|██████████| 191/191 [00:05<00:00, 37.22it/s, valid_loss=5.36]\n"
     ]
    },
    {
     "name": "stdout",
     "output_type": "stream",
     "text": [
      "Epoch 3 valid loss : 5.362388595026167\n",
      "Found better model. Best loss: 5.362388595026167\n",
      "Saving best model to ../../models/converged_models/best_RFW_resnet18_lambda=64_data_rate=12.pth\n"
     ]
    },
    {
     "name": "stderr",
     "output_type": "stream",
     "text": [
      "Epoch 4/30 - Training: 100%|██████████| 889/889 [00:29<00:00, 30.17it/s, train_loss=5.27]\n"
     ]
    },
    {
     "name": "stdout",
     "output_type": "stream",
     "text": [
      "Epoch 4 train loss : 5.268586533994967\n"
     ]
    },
    {
     "name": "stderr",
     "output_type": "stream",
     "text": [
      "Epoch 4/30 - Validation: 100%|██████████| 191/191 [00:04<00:00, 38.80it/s, valid_loss=5.34]\n"
     ]
    },
    {
     "name": "stdout",
     "output_type": "stream",
     "text": [
      "Epoch 4 valid loss : 5.335155561588371\n",
      "Found better model. Best loss: 5.335155561588371\n",
      "Saving best model to ../../models/converged_models/best_RFW_resnet18_lambda=64_data_rate=12.pth\n"
     ]
    },
    {
     "name": "stderr",
     "output_type": "stream",
     "text": [
      "Epoch 5/30 - Training: 100%|██████████| 889/889 [00:30<00:00, 29.01it/s, train_loss=5.22]\n"
     ]
    },
    {
     "name": "stdout",
     "output_type": "stream",
     "text": [
      "Epoch 5 train loss : 5.220000497864697\n"
     ]
    },
    {
     "name": "stderr",
     "output_type": "stream",
     "text": [
      "Epoch 5/30 - Validation: 100%|██████████| 191/191 [00:04<00:00, 38.66it/s, valid_loss=5.34]\n"
     ]
    },
    {
     "name": "stdout",
     "output_type": "stream",
     "text": [
      "Epoch 5 valid loss : 5.3422019331742145\n"
     ]
    },
    {
     "name": "stderr",
     "output_type": "stream",
     "text": [
      "Epoch 6/30 - Training: 100%|██████████| 889/889 [00:29<00:00, 29.79it/s, train_loss=5.16]\n"
     ]
    },
    {
     "name": "stdout",
     "output_type": "stream",
     "text": [
      "Epoch 6 train loss : 5.1632821787386725\n"
     ]
    },
    {
     "name": "stderr",
     "output_type": "stream",
     "text": [
      "Epoch 6/30 - Validation: 100%|██████████| 191/191 [00:04<00:00, 42.97it/s, valid_loss=5.34]\n"
     ]
    },
    {
     "name": "stdout",
     "output_type": "stream",
     "text": [
      "Epoch 6 valid loss : 5.336953317995749\n"
     ]
    },
    {
     "name": "stderr",
     "output_type": "stream",
     "text": [
      "Epoch 7/30 - Training: 100%|██████████| 889/889 [00:30<00:00, 29.39it/s, train_loss=5.11]\n"
     ]
    },
    {
     "name": "stdout",
     "output_type": "stream",
     "text": [
      "Epoch 7 train loss : 5.1118311453899\n"
     ]
    },
    {
     "name": "stderr",
     "output_type": "stream",
     "text": [
      "Epoch 7/30 - Validation: 100%|██████████| 191/191 [00:04<00:00, 38.66it/s, valid_loss=5.37]\n"
     ]
    },
    {
     "name": "stdout",
     "output_type": "stream",
     "text": [
      "Epoch 7 valid loss : 5.366064438657834\n"
     ]
    },
    {
     "name": "stderr",
     "output_type": "stream",
     "text": [
      "Epoch 8/30 - Training: 100%|██████████| 889/889 [00:30<00:00, 28.71it/s, train_loss=5.03]\n"
     ]
    },
    {
     "name": "stdout",
     "output_type": "stream",
     "text": [
      "Epoch 8 train loss : 5.033188901483056\n"
     ]
    },
    {
     "name": "stderr",
     "output_type": "stream",
     "text": [
      "Epoch 8/30 - Validation: 100%|██████████| 191/191 [00:04<00:00, 40.34it/s, valid_loss=5.33]\n"
     ]
    },
    {
     "name": "stdout",
     "output_type": "stream",
     "text": [
      "Epoch 8 valid loss : 5.327924782645426\n",
      "Found better model. Best loss: 5.327924782645426\n",
      "Saving best model to ../../models/converged_models/best_RFW_resnet18_lambda=64_data_rate=12.pth\n"
     ]
    },
    {
     "name": "stderr",
     "output_type": "stream",
     "text": [
      "Epoch 9/30 - Training: 100%|██████████| 889/889 [00:30<00:00, 29.38it/s, train_loss=4.97]\n"
     ]
    },
    {
     "name": "stdout",
     "output_type": "stream",
     "text": [
      "Epoch 9 train loss : 4.965126951278313\n"
     ]
    },
    {
     "name": "stderr",
     "output_type": "stream",
     "text": [
      "Epoch 9/30 - Validation: 100%|██████████| 191/191 [00:04<00:00, 40.11it/s, valid_loss=5.34]\n"
     ]
    },
    {
     "name": "stdout",
     "output_type": "stream",
     "text": [
      "Epoch 9 valid loss : 5.34076520230574\n"
     ]
    },
    {
     "name": "stderr",
     "output_type": "stream",
     "text": [
      "Epoch 10/30 - Training: 100%|██████████| 889/889 [00:29<00:00, 30.46it/s, train_loss=4.91]\n"
     ]
    },
    {
     "name": "stdout",
     "output_type": "stream",
     "text": [
      "Epoch 10 train loss : 4.9075914570019\n"
     ]
    },
    {
     "name": "stderr",
     "output_type": "stream",
     "text": [
      "Epoch 10/30 - Validation: 100%|██████████| 191/191 [00:04<00:00, 42.83it/s, valid_loss=5.34]\n"
     ]
    },
    {
     "name": "stdout",
     "output_type": "stream",
     "text": [
      "Epoch 10 valid loss : 5.335614582056131\n"
     ]
    },
    {
     "name": "stderr",
     "output_type": "stream",
     "text": [
      "Epoch 11/30 - Training: 100%|██████████| 889/889 [00:31<00:00, 28.17it/s, train_loss=4.86]\n"
     ]
    },
    {
     "name": "stdout",
     "output_type": "stream",
     "text": [
      "Epoch 11 train loss : 4.86317316780552\n"
     ]
    },
    {
     "name": "stderr",
     "output_type": "stream",
     "text": [
      "Epoch 11/30 - Validation: 100%|██████████| 191/191 [00:04<00:00, 39.76it/s, valid_loss=5.35]\n"
     ]
    },
    {
     "name": "stdout",
     "output_type": "stream",
     "text": [
      "Epoch 11 valid loss : 5.3504610579895715\n"
     ]
    },
    {
     "name": "stderr",
     "output_type": "stream",
     "text": [
      "Epoch 12/30 - Training: 100%|██████████| 889/889 [00:29<00:00, 29.89it/s, train_loss=4.82]\n"
     ]
    },
    {
     "name": "stdout",
     "output_type": "stream",
     "text": [
      "Epoch 12 train loss : 4.817484458802017\n"
     ]
    },
    {
     "name": "stderr",
     "output_type": "stream",
     "text": [
      "Epoch 12/30 - Validation: 100%|██████████| 191/191 [00:04<00:00, 43.15it/s, valid_loss=5.33]\n"
     ]
    },
    {
     "name": "stdout",
     "output_type": "stream",
     "text": [
      "Epoch 12 valid loss : 5.331321076324393\n"
     ]
    },
    {
     "name": "stderr",
     "output_type": "stream",
     "text": [
      "Epoch 13/30 - Training: 100%|██████████| 889/889 [00:28<00:00, 30.74it/s, train_loss=4.78]\n"
     ]
    },
    {
     "name": "stdout",
     "output_type": "stream",
     "text": [
      "Epoch 13 train loss : 4.77986217692574\n"
     ]
    },
    {
     "name": "stderr",
     "output_type": "stream",
     "text": [
      "Epoch 13/30 - Validation: 100%|██████████| 191/191 [00:04<00:00, 43.09it/s, valid_loss=5.35]\n"
     ]
    },
    {
     "name": "stdout",
     "output_type": "stream",
     "text": [
      "Epoch 13 valid loss : 5.346355528260781\n"
     ]
    },
    {
     "name": "stderr",
     "output_type": "stream",
     "text": [
      "Epoch 14/30 - Training: 100%|██████████| 889/889 [00:28<00:00, 30.86it/s, train_loss=4.74]\n"
     ]
    },
    {
     "name": "stdout",
     "output_type": "stream",
     "text": [
      "Epoch 14 train loss : 4.740897794122801\n"
     ]
    },
    {
     "name": "stderr",
     "output_type": "stream",
     "text": [
      "Epoch 14/30 - Validation: 100%|██████████| 191/191 [00:04<00:00, 42.96it/s, valid_loss=5.39]\n"
     ]
    },
    {
     "name": "stdout",
     "output_type": "stream",
     "text": [
      "Epoch 14 valid loss : 5.388458231285745\n"
     ]
    },
    {
     "name": "stderr",
     "output_type": "stream",
     "text": [
      "Epoch 15/30 - Training: 100%|██████████| 889/889 [00:29<00:00, 30.44it/s, train_loss=4.71]\n"
     ]
    },
    {
     "name": "stdout",
     "output_type": "stream",
     "text": [
      "Epoch 15 train loss : 4.711626149485422\n"
     ]
    },
    {
     "name": "stderr",
     "output_type": "stream",
     "text": [
      "Epoch 15/30 - Validation: 100%|██████████| 191/191 [00:04<00:00, 39.33it/s, valid_loss=5.34]\n"
     ]
    },
    {
     "name": "stdout",
     "output_type": "stream",
     "text": [
      "Epoch 15 valid loss : 5.343070539694626\n"
     ]
    },
    {
     "name": "stderr",
     "output_type": "stream",
     "text": [
      "Epoch 16/30 - Training: 100%|██████████| 889/889 [00:30<00:00, 29.59it/s, train_loss=4.68]\n"
     ]
    },
    {
     "name": "stdout",
     "output_type": "stream",
     "text": [
      "Epoch 16 train loss : 4.681378619287707\n"
     ]
    },
    {
     "name": "stderr",
     "output_type": "stream",
     "text": [
      "Epoch 16/30 - Validation: 100%|██████████| 191/191 [00:04<00:00, 42.03it/s, valid_loss=5.34]\n"
     ]
    },
    {
     "name": "stdout",
     "output_type": "stream",
     "text": [
      "Epoch 16 valid loss : 5.344412602064665\n"
     ]
    },
    {
     "name": "stderr",
     "output_type": "stream",
     "text": [
      "Epoch 17/30 - Training: 100%|██████████| 889/889 [00:28<00:00, 30.75it/s, train_loss=4.66]\n"
     ]
    },
    {
     "name": "stdout",
     "output_type": "stream",
     "text": [
      "Epoch 17 train loss : 4.655437711591691\n"
     ]
    },
    {
     "name": "stderr",
     "output_type": "stream",
     "text": [
      "Epoch 17/30 - Validation: 100%|██████████| 191/191 [00:04<00:00, 43.46it/s, valid_loss=5.34]\n"
     ]
    },
    {
     "name": "stdout",
     "output_type": "stream",
     "text": [
      "Epoch 17 valid loss : 5.339147509113162\n"
     ]
    },
    {
     "name": "stderr",
     "output_type": "stream",
     "text": [
      "Epoch 18/30 - Training: 100%|██████████| 889/889 [00:28<00:00, 30.88it/s, train_loss=4.63]\n"
     ]
    },
    {
     "name": "stdout",
     "output_type": "stream",
     "text": [
      "Epoch 18 train loss : 4.632297403940576\n"
     ]
    },
    {
     "name": "stderr",
     "output_type": "stream",
     "text": [
      "Epoch 18/30 - Validation: 100%|██████████| 191/191 [00:04<00:00, 43.37it/s, valid_loss=5.36]\n"
     ]
    },
    {
     "name": "stdout",
     "output_type": "stream",
     "text": [
      "Epoch 18 valid loss : 5.356052731786567\n",
      "Early stopping at epoch 18\n"
     ]
    },
    {
     "data": {
      "image/png": "[encoded data removed]",
      "text/plain": [
       "<Figure size 640x480 with 1 Axes>"
      ]
     },
     "metadata": {},
     "output_type": "display_data"
    }
   ],
   "source": [
    "import matplotlib.pyplot as plt\n",
    "\n",
    "lambda_value = 64\n",
    "data_rates = [1, 3, 6, 9, 12]\n",
    "ROOT = '/media/global_data/fair_neural_compression_data/decoded_rfw'\n",
    "RATIO = 0.7\n",
    "num_epochs = 30\n",
    "patience = 10\n",
    "lr = 0.01\n",
    "\n",
    "for data_rate in data_rates:\n",
    "    compressed_image_path = f'{ROOT}/progressive_64x64/qres17m/q_{lambda_value}/{data_rate}'\n",
    "    RFW_LABELS_DIR = \"/media/global_data/fair_neural_compression_data/datasets/RFW/clean_metadata/numerical_labels.csv\"\n",
    "    train_loader, valid_loader, test_loader = create_dataloaders(\n",
    "        compressed_image_path, \n",
    "        RFW_LABELS_DIR, \n",
    "        BATCH_SIZE, \n",
    "        RATIO\n",
    "    )\n",
    "    \n",
    "    output_dims = {\n",
    "        'skin_type': 6,\n",
    "        'eye_type': 2,\n",
    "        'nose_type': 2,\n",
    "        'lip_type': 2,\n",
    "        'hair_type': 4,\n",
    "        'hair_color': 5\n",
    "    }\n",
    "    model = MultiHeadResNet(output_dims).to(device)\n",
    "    \n",
    "    trained_model, train_losses, valid_losses = train_numerical_rfw(\n",
    "        model, \n",
    "        torch.optim.SGD,\n",
    "        num_epochs, \n",
    "        lr, \n",
    "        train_loader, \n",
    "        valid_loader,\n",
    "        device,\n",
    "        '../../models/converged_models',\n",
    "        f'RFW_resnet18_lambda={lambda_value}_data_rate={data_rate}',\n",
    "        patience=patience\n",
    "    )\n",
    "    \n",
    "    epochs = range(1, len(train_losses) + 1)\n",
    "    plt.plot(epochs, train_losses, 'b', label='Train Loss')\n",
    "    plt.plot(epochs, valid_losses, 'r', label='Validation Loss')\n",
    "    plt.title(f'Training and Validation Loss - lambda = {lambda_value}, data_rate = {data_rate}')\n",
    "    plt.xlabel('Epochs')\n",
    "    plt.ylabel('Loss')\n",
    "\n",
    "    best_epoch = valid_losses.index(min(valid_losses)) + 1\n",
    "\n",
    "    # Add a vertical line at the epoch with the lowest validation loss\n",
    "    plt.axvline(x=best_epoch, color='g', linestyle='--', label='Best Model')\n",
    "\n",
    "    plt.legend()\n",
    "    plt.savefig(f'/home/rasta/fair-neural-compression-eval/models/converged_models/plots/RFW_resnet18_lambda={lambda_value}_data_rate={data_rate}.png')\n",
    "    plt.show()"
   ]
  },
  {
   "cell_type": "code",
   "execution_count": 28,
   "metadata": {},
   "outputs": [
    {
     "name": "stderr",
     "output_type": "stream",
     "text": [
      "/home/rasta/.conda/envs/fnc_eval/lib/python3.9/site-packages/torchvision/models/_utils.py:208: UserWarning: The parameter 'pretrained' is deprecated since 0.13 and may be removed in the future, please use 'weights' instead.\n",
      "  warnings.warn(\n",
      "/home/rasta/.conda/envs/fnc_eval/lib/python3.9/site-packages/torchvision/models/_utils.py:223: UserWarning: Arguments other than a weight enum or `None` for 'weights' are deprecated since 0.13 and may be removed in the future. The current behavior is equivalent to passing `weights=ResNet18_Weights.IMAGENET1K_V1`. You can also use `weights=ResNet18_Weights.DEFAULT` to get the most up-to-date weights.\n",
      "  warnings.warn(msg)\n",
      "Epoch 1/30 - Training: 100%|██████████| 1016/1016 [00:32<00:00, 30.95it/s, train_loss=5.92]\n"
     ]
    },
    {
     "name": "stdout",
     "output_type": "stream",
     "text": [
      "Epoch 1 train loss : 5.921808594440486\n"
     ]
    },
    {
     "name": "stderr",
     "output_type": "stream",
     "text": [
      "Epoch 1/30 - Validation: 100%|██████████| 127/127 [00:02<00:00, 42.59it/s, valid_loss=6.43]\n"
     ]
    },
    {
     "name": "stdout",
     "output_type": "stream",
     "text": [
      "Epoch 1 valid loss : 6.4342236837436415\n",
      "Found better model. Best loss: 6.4342236837436415\n",
      "Saving best model to ../../models/converged_models/best_RFW_resnet18_lambda=64_data_rate=1.pth\n"
     ]
    },
    {
     "name": "stderr",
     "output_type": "stream",
     "text": [
      "Epoch 2/30 - Training: 100%|██████████| 1016/1016 [00:33<00:00, 30.45it/s, train_loss=5.87]\n"
     ]
    },
    {
     "name": "stdout",
     "output_type": "stream",
     "text": [
      "Epoch 2 train loss : 5.874472895383431\n"
     ]
    },
    {
     "name": "stderr",
     "output_type": "stream",
     "text": [
      "Epoch 2/30 - Validation: 100%|██████████| 127/127 [00:02<00:00, 43.07it/s, valid_loss=6.41]\n"
     ]
    },
    {
     "name": "stdout",
     "output_type": "stream",
     "text": [
      "Epoch 2 valid loss : 6.407854860712742\n",
      "Found better model. Best loss: 6.407854860712742\n",
      "Saving best model to ../../models/converged_models/best_RFW_resnet18_lambda=64_data_rate=1.pth\n"
     ]
    },
    {
     "name": "stderr",
     "output_type": "stream",
     "text": [
      "Epoch 3/30 - Training: 100%|██████████| 1016/1016 [00:33<00:00, 30.62it/s, train_loss=5.86]\n"
     ]
    },
    {
     "name": "stdout",
     "output_type": "stream",
     "text": [
      "Epoch 3 train loss : 5.856426678552285\n"
     ]
    },
    {
     "name": "stderr",
     "output_type": "stream",
     "text": [
      "Epoch 3/30 - Validation: 100%|██████████| 127/127 [00:02<00:00, 43.15it/s, valid_loss=6.45]\n"
     ]
    },
    {
     "name": "stdout",
     "output_type": "stream",
     "text": [
      "Epoch 3 valid loss : 6.4490802067107165\n"
     ]
    },
    {
     "name": "stderr",
     "output_type": "stream",
     "text": [
      "Epoch 4/30 - Training: 100%|██████████| 1016/1016 [00:33<00:00, 30.73it/s, train_loss=5.84]\n"
     ]
    },
    {
     "name": "stdout",
     "output_type": "stream",
     "text": [
      "Epoch 4 train loss : 5.842967773470967\n"
     ]
    },
    {
     "name": "stderr",
     "output_type": "stream",
     "text": [
      "Epoch 4/30 - Validation: 100%|██████████| 127/127 [00:02<00:00, 42.81it/s, valid_loss=6.4]\n"
     ]
    },
    {
     "name": "stdout",
     "output_type": "stream",
     "text": [
      "Epoch 4 valid loss : 6.401553137934413\n",
      "Found better model. Best loss: 6.401553137934413\n",
      "Saving best model to ../../models/converged_models/best_RFW_resnet18_lambda=64_data_rate=1.pth\n"
     ]
    },
    {
     "name": "stderr",
     "output_type": "stream",
     "text": [
      "Epoch 5/30 - Training: 100%|██████████| 1016/1016 [00:32<00:00, 30.82it/s, train_loss=5.83]\n"
     ]
    },
    {
     "name": "stdout",
     "output_type": "stream",
     "text": [
      "Epoch 5 train loss : 5.82859058547464\n"
     ]
    },
    {
     "name": "stderr",
     "output_type": "stream",
     "text": [
      "Epoch 5/30 - Validation: 100%|██████████| 127/127 [00:02<00:00, 42.85it/s, valid_loss=6.45]\n"
     ]
    },
    {
     "name": "stdout",
     "output_type": "stream",
     "text": [
      "Epoch 5 valid loss : 6.445312618181624\n"
     ]
    },
    {
     "name": "stderr",
     "output_type": "stream",
     "text": [
      "Epoch 6/30 - Training: 100%|██████████| 1016/1016 [00:32<00:00, 30.88it/s, train_loss=5.82]\n"
     ]
    },
    {
     "name": "stdout",
     "output_type": "stream",
     "text": [
      "Epoch 6 train loss : 5.815159849146614\n"
     ]
    },
    {
     "name": "stderr",
     "output_type": "stream",
     "text": [
      "Epoch 6/30 - Validation: 100%|██████████| 127/127 [00:02<00:00, 43.11it/s, valid_loss=6.43]\n"
     ]
    },
    {
     "name": "stdout",
     "output_type": "stream",
     "text": [
      "Epoch 6 valid loss : 6.4315942918946005\n"
     ]
    },
    {
     "name": "stderr",
     "output_type": "stream",
     "text": [
      "Epoch 7/30 - Training: 100%|██████████| 1016/1016 [00:33<00:00, 30.76it/s, train_loss=5.8]\n"
     ]
    },
    {
     "name": "stdout",
     "output_type": "stream",
     "text": [
      "Epoch 7 train loss : 5.799856560293007\n"
     ]
    },
    {
     "name": "stderr",
     "output_type": "stream",
     "text": [
      "Epoch 7/30 - Validation: 100%|██████████| 127/127 [00:02<00:00, 43.01it/s, valid_loss=6.44]\n"
     ]
    },
    {
     "name": "stdout",
     "output_type": "stream",
     "text": [
      "Epoch 7 valid loss : 6.436768308410357\n"
     ]
    },
    {
     "name": "stderr",
     "output_type": "stream",
     "text": [
      "Epoch 8/30 - Training: 100%|██████████| 1016/1016 [00:32<00:00, 30.90it/s, train_loss=5.78]\n"
     ]
    },
    {
     "name": "stdout",
     "output_type": "stream",
     "text": [
      "Epoch 8 train loss : 5.783577169013497\n"
     ]
    },
    {
     "name": "stderr",
     "output_type": "stream",
     "text": [
      "Epoch 8/30 - Validation: 100%|██████████| 127/127 [00:02<00:00, 42.70it/s, valid_loss=6.45]\n"
     ]
    },
    {
     "name": "stdout",
     "output_type": "stream",
     "text": [
      "Epoch 8 valid loss : 6.452071777962405\n"
     ]
    },
    {
     "name": "stderr",
     "output_type": "stream",
     "text": [
      "Epoch 9/30 - Training: 100%|██████████| 1016/1016 [00:33<00:00, 30.78it/s, train_loss=5.77]\n"
     ]
    },
    {
     "name": "stdout",
     "output_type": "stream",
     "text": [
      "Epoch 9 train loss : 5.767174193491032\n"
     ]
    },
    {
     "name": "stderr",
     "output_type": "stream",
     "text": [
      "Epoch 9/30 - Validation: 100%|██████████| 127/127 [00:02<00:00, 43.39it/s, valid_loss=6.47]\n"
     ]
    },
    {
     "name": "stdout",
     "output_type": "stream",
     "text": [
      "Epoch 9 valid loss : 6.465258012044019\n"
     ]
    },
    {
     "name": "stderr",
     "output_type": "stream",
     "text": [
      "Epoch 10/30 - Training: 100%|██████████| 1016/1016 [00:33<00:00, 30.45it/s, train_loss=5.75]\n"
     ]
    },
    {
     "name": "stdout",
     "output_type": "stream",
     "text": [
      "Epoch 10 train loss : 5.748688192633238\n"
     ]
    },
    {
     "name": "stderr",
     "output_type": "stream",
     "text": [
      "Epoch 10/30 - Validation: 100%|██████████| 127/127 [00:02<00:00, 43.60it/s, valid_loss=6.44]\n"
     ]
    },
    {
     "name": "stdout",
     "output_type": "stream",
     "text": [
      "Epoch 10 valid loss : 6.442232610079749\n"
     ]
    },
    {
     "name": "stderr",
     "output_type": "stream",
     "text": [
      "Epoch 11/30 - Training: 100%|██████████| 1016/1016 [00:33<00:00, 30.78it/s, train_loss=5.73]\n"
     ]
    },
    {
     "name": "stdout",
     "output_type": "stream",
     "text": [
      "Epoch 11 train loss : 5.728069653451598\n"
     ]
    },
    {
     "name": "stderr",
     "output_type": "stream",
     "text": [
      "Epoch 11/30 - Validation: 100%|██████████| 127/127 [00:02<00:00, 43.25it/s, valid_loss=6.49]\n"
     ]
    },
    {
     "name": "stdout",
     "output_type": "stream",
     "text": [
      "Epoch 11 valid loss : 6.492771086893205\n"
     ]
    },
    {
     "name": "stderr",
     "output_type": "stream",
     "text": [
      "Epoch 12/30 - Training: 100%|██████████| 1016/1016 [00:32<00:00, 31.12it/s, train_loss=5.71]\n"
     ]
    },
    {
     "name": "stdout",
     "output_type": "stream",
     "text": [
      "Epoch 12 train loss : 5.710449144872166\n"
     ]
    },
    {
     "name": "stderr",
     "output_type": "stream",
     "text": [
      "Epoch 12/30 - Validation: 100%|██████████| 127/127 [00:02<00:00, 42.95it/s, valid_loss=6.52]\n"
     ]
    },
    {
     "name": "stdout",
     "output_type": "stream",
     "text": [
      "Epoch 12 valid loss : 6.519677780183224\n"
     ]
    },
    {
     "name": "stderr",
     "output_type": "stream",
     "text": [
      "Epoch 13/30 - Training: 100%|██████████| 1016/1016 [00:32<00:00, 30.86it/s, train_loss=5.69]\n"
     ]
    },
    {
     "name": "stdout",
     "output_type": "stream",
     "text": [
      "Epoch 13 train loss : 5.688142980963373\n"
     ]
    },
    {
     "name": "stderr",
     "output_type": "stream",
     "text": [
      "Epoch 13/30 - Validation: 100%|██████████| 127/127 [00:02<00:00, 43.47it/s, valid_loss=6.46]\n"
     ]
    },
    {
     "name": "stdout",
     "output_type": "stream",
     "text": [
      "Epoch 13 valid loss : 6.4631482897133665\n"
     ]
    },
    {
     "name": "stderr",
     "output_type": "stream",
     "text": [
      "Epoch 14/30 - Training: 100%|██████████| 1016/1016 [00:33<00:00, 30.75it/s, train_loss=5.67]\n"
     ]
    },
    {
     "name": "stdout",
     "output_type": "stream",
     "text": [
      "Epoch 14 train loss : 5.666318143527838\n"
     ]
    },
    {
     "name": "stderr",
     "output_type": "stream",
     "text": [
      "Epoch 14/30 - Validation: 100%|██████████| 127/127 [00:02<00:00, 42.65it/s, valid_loss=6.49]"
     ]
    },
    {
     "name": "stdout",
     "output_type": "stream",
     "text": [
      "Epoch 14 valid loss : 6.493416118724593\n",
      "Early stopping at epoch 14\n"
     ]
    },
    {
     "name": "stderr",
     "output_type": "stream",
     "text": [
      "\n"
     ]
    }
   ],
   "source": [
    "output_dims = {\n",
    "    'skin_type': 6,\n",
    "    'eye_type': 2,\n",
    "    'nose_type': 2,\n",
    "    'lip_type': 2,\n",
    "    'hair_type': 4,\n",
    "    'hair_color': 5\n",
    "}\n",
    "model = MultiHeadResNet(output_dims).to(device)\n",
    "num_epochs = 30\n",
    "patience = 10\n",
    "lr = 0.01\n",
    "\n",
    "trained_model, train_losses, valid_losses = train_numerical_rfw(\n",
    "    model, \n",
    "    torch.optim.SGD,\n",
    "    num_epochs, \n",
    "    lr, \n",
    "    train_loader, \n",
    "    valid_loader,\n",
    "    device,\n",
    "    '../../models/converged_models',\n",
    "    f'RFW_resnet18_lambda={lambda_value}_data_rate={data_rate}',\n",
    "    patience=patience\n",
    ")"
   ]
  },
  {
   "cell_type": "code",
   "execution_count": 29,
   "metadata": {},
   "outputs": [
    {
     "data": {
      "image/png": "[encoded data removed]",
      "text/plain": [
       "<Figure size 640x480 with 1 Axes>"
      ]
     },
     "metadata": {},
     "output_type": "display_data"
    }
   ],
   "source": [
    "import matplotlib.pyplot as plt\n",
    "\n",
    "# Sample lists of train and validation losses\n",
    "# train_losses = [0.5, 0.4, 0.3, 0.2, 0.1]\n",
    "# val_losses = [0.6, 0.5, 0.4, 0.3, 0.2]\n",
    "\n",
    "# Plotting\n",
    "epochs = range(1, len(train_losses) + 1)\n",
    "plt.plot(epochs, train_losses, 'b', label='Train Loss')\n",
    "plt.plot(epochs, valid_losses, 'r', label='Validation Loss')\n",
    "plt.title('Training and Validation Loss')\n",
    "plt.xlabel('Epochs')\n",
    "plt.ylabel('Loss')\n",
    "\n",
    "best_epoch = valid_losses.index(min(valid_losses)) + 1\n",
    "\n",
    "# Add a vertical line at the epoch with the lowest validation loss\n",
    "plt.axvline(x=best_epoch, color='g', linestyle='--', label='Best Model')\n",
    "\n",
    "plt.legend()\n",
    "plt.show()"
   ]
  },
  {
   "cell_type": "code",
   "execution_count": null,
   "metadata": {},
   "outputs": [],
   "source": []
  }
 ],
 "metadata": {
  "kernelspec": {
   "display_name": "fnc_eval",
   "language": "python",
   "name": "fnc_eval"
  },
  "language_info": {
   "codemirror_mode": {
    "name": "ipython",
    "version": 3
   },
   "file_extension": ".py",
   "mimetype": "text/x-python",
   "name": "python",
   "nbconvert_exporter": "python",
   "pygments_lexer": "ipython3",
   "version": "3.9.19"
  }
 },
 "nbformat": 4,
 "nbformat_minor": 2
}
