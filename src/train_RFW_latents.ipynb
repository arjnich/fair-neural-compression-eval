{
 "cells": [
  {
   "cell_type": "code",
   "execution_count": null,
   "metadata": {},
   "outputs": [],
   "source": [
    "from predict import perform_inference\n",
    "from datasets.rfw_latent import RFW_raw, RFW_latent, create_dataloaders\n",
    "from train import train, write_model, save_model\n",
    "\n",
    "import torch\n",
    "import torchvision.models as models\n",
    "import torch.nn as nn\n",
    "from tqdm import tqdm\n",
    "import torch.nn.functional as F\n",
    "\n",
    "import sys\n",
    "sys.path.append('/home/tianqiu/NeuralCompression/lossy-vae')\n",
    "from lvae import get_model\n",
    "from lvae.models.qresvae import zoo"
   ]
  },
  {
   "cell_type": "code",
   "execution_count": null,
   "metadata": {},
   "outputs": [],
   "source": [
    "DEVICE = 1\n",
    "device = torch.device(f'cuda:{DEVICE}' if torch.cuda.is_available() else 'cpu')"
   ]
  },
  {
   "cell_type": "code",
   "execution_count": null,
   "metadata": {},
   "outputs": [],
   "source": [
    "EPOCHS = 5\n",
    "LEARNING_RATE = 0.01\n",
    "RATIO = 0.8\n",
    "BATCH_SIZE = 32"
   ]
  },
  {
   "cell_type": "code",
   "execution_count": null,
   "metadata": {},
   "outputs": [],
   "source": [
    "# load pre-trained qres model\n",
    "model_name = 'qres17m'\n",
    "lmb_value = 64\n",
    "nc_model = get_model(model_name, lmb_value, pretrained=True).to(device) # weights are downloaded automatically"
   ]
  },
  {
   "cell_type": "code",
   "execution_count": null,
   "metadata": {},
   "outputs": [],
   "source": [
    "RFW_IMAGES_DIR =  \"/media/global_data/fair_neural_compression_data/datasets/RFW/data_64\"\n",
    "RFW_LABELS_DIR = \"/media/global_data/fair_neural_compression_data/datasets/RFW/clean_metadata/numerical_labels.csv\"\n",
    "image_ds = RFW_raw(RFW_IMAGES_DIR, RFW_LABELS_DIR)\n",
    "image_dl_train, image_dl_test = create_dataloaders(image_ds, BATCH_SIZE, RATIO)\n",
    "latent_ds = RFW_latent(RFW_IMAGES_DIR, RFW_LABELS_DIR, nc_model, device)\n",
    "latent_dl_train, latent_dl_test = create_dataloaders(latent_ds, BATCH_SIZE, RATIO)"
   ]
  },
  {
   "cell_type": "code",
   "execution_count": null,
   "metadata": {},
   "outputs": [],
   "source": [
    "def get_latent(img, nc_model, device):\n",
    "        ps_layer = nn.PixelShuffle(2)\n",
    "        img = img.to(device)\n",
    "        print(img.shape)\n",
    "        stats_all = nc_model.forward_get_latents(img)\n",
    "        latents = [stats_all[latent_block_index]['z'] for latent_block_index in range(12)]\n",
    "        output = torch.cat((F.interpolate(latents[0], 4),latents[1], latents[2]), 1)\n",
    "        output = torch.cat((F.interpolate(output, 8),latents[3], latents[4],latents[5], latents[6]), 1)\n",
    "        output = torch.cat((F.interpolate(output, 16),latents[7], latents[8],latents[9], latents[10], latents[11]), 1)\n",
    "        output = ps_layer(output)\n",
    "        return output"
   ]
  },
  {
   "cell_type": "code",
   "execution_count": null,
   "metadata": {},
   "outputs": [],
   "source": [
    "class MultiHeadResNet(nn.Module):\n",
    "    def __init__(self, output_dims):\n",
    "        super(MultiHeadResNet, self).__init__()\n",
    "        self.dim_reducing_layer = nn.Conv2d(in_channels=19, out_channels=3, kernel_size=1, stride=1, padding=1)\n",
    "        self.upsampling_layer = nn.Upsample(size=224, mode='nearest')\n",
    "        self.resnet = models.resnet18(pretrained=True)\n",
    "        num_features = self.resnet.fc.in_features\n",
    "        self.resnet = torch.nn.Sequential(*(list(self.resnet.children())[:-1]))\n",
    "        self.heads = nn.ModuleDict()\n",
    "        for head, num_classes in output_dims.items():\n",
    "            self.heads[head] = nn.Linear(num_features, num_classes)\n",
    "\n",
    "    def forward(self, x):\n",
    "        x = self.dim_reducing_layer(x)\n",
    "        x = self.upsampling_layer(x)\n",
    "        features = self.resnet(x).squeeze()\n",
    "        outputs = {}\n",
    "        for head, head_module in self.heads.items():\n",
    "            output_logits = head_module(features)\n",
    "            outputs[head] = F.softmax(output_logits, dim=1)\n",
    "        return outputs"
   ]
  },
  {
   "cell_type": "code",
   "execution_count": null,
   "metadata": {},
   "outputs": [],
   "source": [
    "# def train_numerical_rfw(num_epochs, lr, train_loader, device):\n",
    "num_epochs = 5\n",
    "lr = 0.01\n",
    "output_dims = {\n",
    "    'skin_type': 6,\n",
    "    'eye_type': 2,\n",
    "    'nose_type': 2,\n",
    "    'lip_type': 2,\n",
    "    'hair_type': 4,\n",
    "    'hair_color': 5\n",
    "}\n",
    "\n",
    "model = MultiHeadResNet(output_dims).to(device)"
   ]
  },
  {
   "cell_type": "code",
   "execution_count": null,
   "metadata": {},
   "outputs": [],
   "source": [
    "def train_numerical_rfw(num_epochs, lr, train_loader, device):\n",
    "    criterion = nn.CrossEntropyLoss()\n",
    "    optimizer = torch.optim.SGD(model.parameters(), lr=lr)\n",
    "    for epoch in range(num_epochs):\n",
    "        running_loss = 0.0\n",
    "        with tqdm(total=len(train_loader), desc=f\"Epoch {epoch+1}/{num_epochs}\") as pbar:\n",
    "            for inputs, targets, races in train_loader:\n",
    "                # print(inputs.shape)\n",
    "                latents = get_latent(inputs, nc_model, device)\n",
    "                # inputs, targets = inputs.to(device), targets.to(device)\n",
    "                targets = targets.to(device)\n",
    "                optimizer.zero_grad()\n",
    "                outputs = model(latents)\n",
    "                loss = 0\n",
    "                for i, head in enumerate(outputs):\n",
    "                    loss += criterion(outputs[head], targets[:, i].to(torch.int64))\n",
    "                loss.backward()\n",
    "                optimizer.step()\n",
    "                running_loss += loss.item() * inputs.size(0)\n",
    "                avg_loss = running_loss / ((pbar.n + 1) * len(latents))  # Compute average loss\n",
    "                pbar.set_postfix(loss=avg_loss)\n",
    "                pbar.update(1)\n",
    "    return model"
   ]
  },
  {
   "cell_type": "code",
   "execution_count": null,
   "metadata": {},
   "outputs": [],
   "source": [
    "processing_head = nn.Sequential(\n",
    "          nn.Conv2d(19,3,3),\n",
    "          nn.Upsample(size=224, mode='nearest')\n",
    "        )\n",
    "random_tensor = torch.randn(32, 19, 16, 16)\n",
    "out = processing_head(random_tensor)\n",
    "out.shape"
   ]
  },
  {
   "cell_type": "code",
   "execution_count": null,
   "metadata": {},
   "outputs": [],
   "source": [
    "model.parameters"
   ]
  },
  {
   "cell_type": "code",
   "execution_count": null,
   "metadata": {},
   "outputs": [],
   "source": [
    "# model = train_numerical_rfw(10, LEARNING_RATE, latent_dl_train, device)\n",
    "model = train_numerical_rfw(10, LEARNING_RATE, image_dl_train, device)"
   ]
  },
  {
   "cell_type": "code",
   "execution_count": null,
   "metadata": {},
   "outputs": [],
   "source": [
    "save_model(model, '../models', 'latent_RFW_numerical_all_labels_resnet18')"
   ]
  },
  {
   "cell_type": "code",
   "execution_count": null,
   "metadata": {},
   "outputs": [],
   "source": [
    "import pandas as pd\n",
    "rfw_labels = pd.read_csv('/media/global_data/fair_neural_compression_data/datasets/RFW/clean_metadata/clean.csv')\n",
    "rfw_labels.head()"
   ]
  },
  {
   "cell_type": "code",
   "execution_count": null,
   "metadata": {},
   "outputs": [],
   "source": [
    "def select_random_images(df, num_images_per_type=6):\n",
    "    selected_images = []\n",
    "    for skintype_col in ['skintype_type1', 'skintype_type2', 'skintype_type3', 'skintype_type4', 'skintype_type5', 'skintype_type6']:\n",
    "        skin_type = skintype_col.split('_')[-1]  # Extract the skin type from the column name\n",
    "        # Select images for each skin type\n",
    "        images = df[df[skintype_col] == 1].sample(num_images_per_type)\n",
    "        selected_images.extend([[skin_type, class_id, image_path] for class_id, image_path in images[['Class_ID', 'File']].values.tolist()])\n",
    "    return selected_images"
   ]
  },
  {
   "cell_type": "code",
   "execution_count": null,
   "metadata": {},
   "outputs": [],
   "source": [
    "import matplotlib.pyplot as plt\n",
    "random_images = select_random_images(rfw_labels)\n",
    "print(f'random_images: {random_images[:4]}')\n",
    "num_rows = 6\n",
    "num_cols = 6\n",
    "fig, axs = plt.subplots(num_rows, num_cols, figsize=(20, 20))\n",
    "\n",
    "for i, (skin_type, class_id, image_path) in enumerate(random_images):\n",
    "    row = i // num_cols\n",
    "    col = i % num_cols\n",
    "    img = plt.imread(f'{RFW_IMAGES_DIR}/{class_id}/{image_path}')\n",
    "    axs[row, col].imshow(img)\n",
    "    axs[row, col].set_title(f\"Skin Type: {skin_type}\\nClass ID: {class_id}\")\n",
    "    axs[row, col].axis('off')\n",
    "\n",
    "plt.tight_layout()\n",
    "plt.show()"
   ]
  },
  {
   "cell_type": "code",
   "execution_count": null,
   "metadata": {},
   "outputs": [],
   "source": [
    "import torch\n",
    "# model_path = 'models/RFW_numerical_no_skin_resnet18_2024-05-06_16-07-26.pth'\n",
    "model_path = '../models/RFW_numerical_all_labels_resnet18_2024-05-07_13-45-45.pth'\n",
    "model = torch.load(model_path)"
   ]
  },
  {
   "cell_type": "code",
   "execution_count": null,
   "metadata": {},
   "outputs": [],
   "source": [
    "model_name = 'latent_RFW_numerical_all_labels_resnet18_2024-05-08_23-18-58'"
   ]
  },
  {
   "cell_type": "code",
   "execution_count": null,
   "metadata": {},
   "outputs": [],
   "source": [
    "from tqdm import tqdm\n",
    "import numpy as np\n",
    "\n",
    "def save_race_based_predictions(\n",
    "        model, \n",
    "        model_name, \n",
    "        dataloader, \n",
    "        device, \n",
    "        prediction_save_dir,\n",
    "        save_labels=False\n",
    "    ):\n",
    "    all_predictions = {'Indian': {head: torch.tensor([]) for head in model.heads.keys()}, \n",
    "                       'Caucasian': {head: torch.tensor([]) for head in model.heads.keys()}, \n",
    "                       'Asian': {head: torch.tensor([]) for head in model.heads.keys()},  \n",
    "                       'African': {head: torch.tensor([]) for head in model.heads.keys()}}\n",
    "    all_labels = {'Indian': {head: torch.tensor([]) for head in model.heads.keys()}, \n",
    "                  'Caucasian': {head: torch.tensor([]) for head in model.heads.keys()}, \n",
    "                  'Asian': {head: torch.tensor([]) for head in model.heads.keys()}, \n",
    "                  'African': {head: torch.tensor([]) for head in model.heads.keys()}}\n",
    "    \n",
    "    print(f'prediction_save_dir: {prediction_save_dir}')\n",
    "    dataloader = tqdm(dataloader, desc=\"Getting Predictions\", unit=\"batch\")\n",
    "    model.eval()\n",
    "    with torch.no_grad():\n",
    "        for _, data in enumerate(dataloader):\n",
    "            inputs, labels, race = data\n",
    "            print(inputs.shape)\n",
    "            race = np.array(race)\n",
    "            latents = get_latent(inputs, nc_model, device)\n",
    "            # inputs = inputs.to(device)\n",
    "            labels = labels.to(device)\n",
    "            outputs = model(latents)\n",
    "\n",
    "            for i, (head, predictions) in enumerate(outputs.items()):\n",
    "                head_preds = predictions.argmax(dim=1).cpu()\n",
    "\n",
    "                for race_label in all_labels:\n",
    "                    race_indices = np.array((race == race_label).nonzero()[0])\n",
    "                    race_predictions = head_preds[race_indices]\n",
    "                    race_labels = labels[:, i][race_indices]\n",
    "                \n",
    "                    all_predictions[race_label][head] = torch.cat((all_predictions[race_label][head], race_predictions.to('cpu')), dim=0)\n",
    "                    all_labels[race_label][head] = torch.cat((all_labels[race_label][head], race_labels.to('cpu')), dim=0)\n",
    "\n",
    "    for race_label in all_labels:\n",
    "        for category in all_labels[race_label]:\n",
    "            torch.save(all_predictions[race_label][category], f'{prediction_save_dir}/{model_name}_{race_label}_{category}_predictions.pt')\n",
    "            if save_labels:\n",
    "                torch.save(all_labels[race_label][category], f'{prediction_save_dir}/{model_name}_{race_label}_{category}_labels.pt')\n",
    "\n",
    "    return all_predictions, all_labels\n"
   ]
  },
  {
   "cell_type": "code",
   "execution_count": null,
   "metadata": {},
   "outputs": [],
   "source": [
    "all_predictions, all_labels = save_race_based_predictions(model,\n",
    "                                                model_name,\n",
    "                                                image_dl_test, \n",
    "                                                device, \n",
    "                                                'results/latent_RFW/predictions',\n",
    "                                            )"
   ]
  }
 ],
 "metadata": {
  "kernelspec": {
   "display_name": "torch2_2",
   "language": "python",
   "name": "python3"
  },
  "language_info": {
   "codemirror_mode": {
    "name": "ipython",
    "version": 3
   },
   "file_extension": ".py",
   "mimetype": "text/x-python",
   "name": "python",
   "nbconvert_exporter": "python",
   "pygments_lexer": "ipython3",
   "version": "3.8.18"
  }
 },
 "nbformat": 4,
 "nbformat_minor": 2
}
